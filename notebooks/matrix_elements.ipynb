{
 "cells": [
  {
   "cell_type": "markdown",
   "metadata": {},
   "source": [
    "# Matrix elements"
   ]
  },
  {
   "cell_type": "code",
   "execution_count": 45,
   "metadata": {
    "collapsed": true
   },
   "outputs": [],
   "source": [
    "import numpy as np"
   ]
  },
  {
   "cell_type": "markdown",
   "metadata": {},
   "source": [
    "We begin by loading the two-body orbital matrix elements from `dat/coulomb.dat`. In this example the orbitals are equal for both spin-directions thus the spin-orbital matrix elements has twice the number of basis functions in each dimension. Labeling the orbital matrix elements by $(\\tilde{p}\\tilde{q}\\lvert u \\rvert \\tilde{r}\\tilde{s})$, we wish to set up the anti-symmetric matrix elements by\n",
    "\n",
    "\\begin{align}\n",
    "    u^{pq}_{rs}\n",
    "        &= \\langle pq\\lvert u\\rvert rs\\rangle\n",
    "        - \\langle pq\\lvert u\\rvert sr\\rangle \\\\\n",
    "        &= \\delta_{\\sigma_p\\sigma_r}\\delta_{\\sigma_q\\sigma_s}\n",
    "        (\\tilde{p}\\tilde{q}\\lvert u\\rvert \\tilde{r}\\tilde{s})\n",
    "        - \\delta_{\\sigma_p\\sigma_s}\\delta_{\\sigma_q\\sigma_r}\n",
    "        (\\tilde{p}\\tilde{q}\\lvert u\\rvert \\tilde{s}\\tilde{r}),\n",
    "\\end{align}\n",
    "where $p = (\\tilde{p}, \\sigma_p)$."
   ]
  },
  {
   "cell_type": "code",
   "execution_count": 50,
   "metadata": {},
   "outputs": [],
   "source": [
    "l = 12\n",
    "orbital_integrals = np.zeros((l//2, l//2, l//2, l//2))\n",
    "\n",
    "with open(\"dat/coulomb.dat\", \"r\") as f:\n",
    "    for row in f.read().split(\"\\n\"):\n",
    "        row = row.split()\n",
    "\n",
    "        if row:\n",
    "            p, q, r, s, val = row\n",
    "            orbital_integrals[int(p), int(q), int(r), int(s)] = float(val)"
   ]
  },
  {
   "cell_type": "markdown",
   "metadata": {},
   "source": [
    "Having read in the orbital matrix elements, i.e., $(\\tilde{p}\\tilde{q}\\lvert u\\rvert \\tilde{r}\\tilde{s})$, we construct the anti-symmetric elements, $u^{pq}_{rs}$, using the formula shown above. We therefore introduce two $\\delta$-functions. One for the spatial part and one for the spin part."
   ]
  },
  {
   "cell_type": "code",
   "execution_count": 52,
   "metadata": {
    "collapsed": true
   },
   "outputs": [],
   "source": [
    "# Regular Kronecker-delta for indices\n",
    "delta = lambda p, q: p == q\n",
    "# Spin-delta, checking if both indices are odd or even\n",
    "spin_delta = lambda p, q: not ((p & 0x1) ^ (q & 0x1))"
   ]
  },
  {
   "cell_type": "code",
   "execution_count": 54,
   "metadata": {},
   "outputs": [],
   "source": [
    "u = np.zeros((l, l, l, l))\n",
    "\n",
    "for p in range(l):\n",
    "    for q in range(l):\n",
    "        for r in range(l):\n",
    "            for s in range(l):\n",
    "                pqrs = spin_delta(p, r) * spin_delta(q, s) * orbital_integrals[p//2, q//2, r//2, s//2]\n",
    "                pqsr = spin_delta(p, s) * spin_delta(q, r) * orbital_integrals[p//2, q//2, s//2, r//2]\n",
    "                u[p, q, r, s] = pqrs - pqsr"
   ]
  },
  {
   "cell_type": "markdown",
   "metadata": {},
   "source": [
    "Below we test if the anti-symmetric matrix elements are actually anti-symmetric, i.e.,\n",
    "\n",
    "\\begin{align}\n",
    "    u_{rs}^{pq} = -u_{sr}^{pq} = -u_{rs}^{qp} = u_{sr}^{qp}.\n",
    "\\end{align}"
   ]
  },
  {
   "cell_type": "code",
   "execution_count": 40,
   "metadata": {},
   "outputs": [],
   "source": [
    "tol = 1e-7\n",
    "\n",
    "for p in range(l):\n",
    "    for q in range(p + 1, l):\n",
    "        for r in range(l):\n",
    "            for s in range(r + 1, l):\n",
    "                assert (abs(u[p, q, r, s] - u[q, p, s, r]) < tol)\n",
    "                assert (abs(u[p, q, r, s] + u[q, p, r, s]) < tol)\n",
    "                assert (abs(u[p, q, r, s] + u[p, q, s, r]) < tol)"
   ]
  }
 ],
 "metadata": {
  "kernelspec": {
   "display_name": "Python 3",
   "language": "python",
   "name": "python3"
  },
  "language_info": {
   "codemirror_mode": {
    "name": "ipython",
    "version": 3
   },
   "file_extension": ".py",
   "mimetype": "text/x-python",
   "name": "python",
   "nbconvert_exporter": "python",
   "pygments_lexer": "ipython3",
   "version": "3.6.1"
  }
 },
 "nbformat": 4,
 "nbformat_minor": 2
}
