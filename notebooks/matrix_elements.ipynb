{
 "cells": [
  {
   "cell_type": "markdown",
   "metadata": {},
   "source": [
    "# Two-dimensional harmonic osci\n",
    "\n",
    "In the following we set $\\hbar = c = 1$."
   ]
  },
  {
   "cell_type": "code",
   "execution_count": 91,
   "metadata": {
    "collapsed": true
   },
   "outputs": [],
   "source": [
    "import numpy as np\n",
    "import pickle"
   ]
  },
  {
   "cell_type": "markdown",
   "metadata": {},
   "source": [
    "## Two-body matrix elements\n",
    "\n",
    "We begin by loading the two-body orbital matrix elements from `dat/coulomb.dat`. In this example the orbitals are equal for both spin-directions thus the spin-orbital matrix elements has twice the number of basis functions in each dimension. Labeling the orbital matrix elements by $(\\tilde{p}\\tilde{q}\\lvert u \\rvert \\tilde{r}\\tilde{s})$, we wish to set up the anti-symmetric matrix elements by\n",
    "\n",
    "\\begin{align}\n",
    "    u^{pq}_{rs}\n",
    "        &= \\langle pq\\lvert u\\rvert rs\\rangle\n",
    "        - \\langle pq\\lvert u\\rvert sr\\rangle \\\\\n",
    "        &= \\delta_{\\sigma_p\\sigma_r}\\delta_{\\sigma_q\\sigma_s}\n",
    "        (\\tilde{p}\\tilde{q}\\lvert u\\rvert \\tilde{r}\\tilde{s})\n",
    "        - \\delta_{\\sigma_p\\sigma_s}\\delta_{\\sigma_q\\sigma_r}\n",
    "        (\\tilde{p}\\tilde{q}\\lvert u\\rvert \\tilde{s}\\tilde{r}),\n",
    "\\end{align}\n",
    "where $p = (\\tilde{p}, \\sigma_p)$."
   ]
  },
  {
   "cell_type": "code",
   "execution_count": 76,
   "metadata": {
    "collapsed": true
   },
   "outputs": [],
   "source": [
    "hbar = 1"
   ]
  },
  {
   "cell_type": "code",
   "execution_count": 77,
   "metadata": {},
   "outputs": [],
   "source": [
    "l = 12 # Number of spin-orbitals\n",
    "n = 2 # Number of particles\n",
    "orbital_integrals = np.zeros((l//2, l//2, l//2, l//2))\n",
    "\n",
    "with open(\"dat/coulomb.dat\", \"r\") as f:\n",
    "    for row in f.read().split(\"\\n\"):\n",
    "        row = row.split()\n",
    "\n",
    "        if row:\n",
    "            p, q, r, s, val = row\n",
    "            orbital_integrals[int(p), int(q), int(r), int(s)] = float(val)"
   ]
  },
  {
   "cell_type": "markdown",
   "metadata": {},
   "source": [
    "Having read in the orbital matrix elements, i.e., $(\\tilde{p}\\tilde{q}\\lvert u\\rvert \\tilde{r}\\tilde{s})$, we construct the anti-symmetric elements, $u^{pq}_{rs}$, using the formula shown above. We therefore introduce two $\\delta$-functions. One for the spatial part and one for the spin part."
   ]
  },
  {
   "cell_type": "code",
   "execution_count": 78,
   "metadata": {
    "collapsed": true
   },
   "outputs": [],
   "source": [
    "# Regular Kronecker-delta for indices\n",
    "delta = lambda p, q: p == q\n",
    "# Spin-delta, checking if both indices are odd or even\n",
    "spin_delta = lambda p, q: not ((p & 0x1) ^ (q & 0x1))"
   ]
  },
  {
   "cell_type": "code",
   "execution_count": 79,
   "metadata": {},
   "outputs": [],
   "source": [
    "u = np.zeros((l, l, l, l))\n",
    "\n",
    "for p in range(l):\n",
    "    for q in range(l):\n",
    "        for r in range(l):\n",
    "            for s in range(l):\n",
    "                pqrs = spin_delta(p, r) * spin_delta(q, s) * orbital_integrals[p//2, q//2, r//2, s//2]\n",
    "                pqsr = spin_delta(p, s) * spin_delta(q, r) * orbital_integrals[p//2, q//2, s//2, r//2]\n",
    "                u[p, q, r, s] = pqrs - pqsr"
   ]
  },
  {
   "cell_type": "markdown",
   "metadata": {},
   "source": [
    "Below we test if the anti-symmetric matrix elements are actually anti-symmetric, i.e.,\n",
    "\n",
    "\\begin{align}\n",
    "    u_{rs}^{pq} = -u_{sr}^{pq} = -u_{rs}^{qp} = u_{sr}^{qp}.\n",
    "\\end{align}"
   ]
  },
  {
   "cell_type": "code",
   "execution_count": 86,
   "metadata": {},
   "outputs": [],
   "source": [
    "tol = 1e-7\n",
    "\n",
    "for p in range(l):\n",
    "    for q in range(l):\n",
    "        for r in range(l):\n",
    "            for s in range(l):\n",
    "                assert (abs(u[p, q, r, s] - u[q, p, s, r]) < tol)\n",
    "                assert (abs(u[p, q, r, s] + u[q, p, r, s]) < tol)\n",
    "                assert (abs(u[p, q, r, s] + u[p, q, s, r]) < tol)"
   ]
  },
  {
   "cell_type": "markdown",
   "metadata": {},
   "source": [
    "## One-body matrix elements\n",
    "\n",
    "We look at the _two-dimensional harmonic oscillator quantum dot_ (HOQD 2D) with energy levels given by\n",
    "\n",
    "\\begin{align}\n",
    "    \\epsilon_{n, m} = \\hbar\\omega(2n + |m| + 1).\n",
    "\\end{align}\n",
    "\n",
    "See `books/articles/QDots.pdf` page 15 for the derivation of this expression."
   ]
  },
  {
   "cell_type": "code",
   "execution_count": 87,
   "metadata": {
    "collapsed": true
   },
   "outputs": [],
   "source": [
    "# To use this function, we must provide a mapping from (p, q) -> (n, m)\n",
    "epsilon = lambda n, m, omega=1: hbar*omega*(2*n + abs(m) + 1)"
   ]
  },
  {
   "cell_type": "code",
   "execution_count": 82,
   "metadata": {
    "collapsed": true
   },
   "outputs": [],
   "source": [
    "h = np.zeros((l, l))\n",
    "omega = 1\n",
    "\n",
    "for p in range(l):\n",
    "    if p < 2:\n",
    "        h[p, p] = omega\n",
    "    elif 2 <= p < 6:\n",
    "        h[p, p] = 2*omega\n",
    "    elif 6 <= p < 12:\n",
    "        h[p, p] = 3*omega"
   ]
  },
  {
   "cell_type": "markdown",
   "metadata": {},
   "source": [
    "## Calculating reference energy\n",
    "\n",
    "The coupled-cluster doubles energy can be calculated by\n",
    "\n",
    "\\begin{align}\n",
    "    E_{\\text{CCD}} = h_i^i + \\frac{1}{2}u_{ij}^{ij}\n",
    "        + \\frac{1}{4}u_{ij}^{ab}t_{ij}^{ab},\n",
    "\\end{align}\n",
    "where $t$ are the cluster amplitudes (to be determined later). The first part is a reference energy we use for testing the current values of $h$ and $u$.\n",
    "\n",
    "\\begin{align}\n",
    "    E_{\\text{ref}} = h_i^i + \\frac{1}{2}u_{ij}^{ij}.\n",
    "\\end{align}\n",
    "\n",
    "For 2D HOQD with $n = 2$ and $l = 12$, we should get $E_{\\text{ref}} \\approx 3.25 \\text{Hartree}$."
   ]
  },
  {
   "cell_type": "code",
   "execution_count": 89,
   "metadata": {},
   "outputs": [
    {
     "name": "stdout",
     "output_type": "stream",
     "text": [
      "E_ref = 3.2533 Hartree\n"
     ]
    }
   ],
   "source": [
    "e_ref = np.einsum(\"ii->\", h[:n, :n]) + 0.5*np.einsum(\"ijij->\", u[:n, :n, :n, :n])\n",
    "print (\"E_ref = {0:.4f} Hartree\".format(e_ref))"
   ]
  },
  {
   "cell_type": "markdown",
   "metadata": {},
   "source": [
    "## Pickling the result to be used in the CCD-notebook"
   ]
  },
  {
   "cell_type": "code",
   "execution_count": 101,
   "metadata": {},
   "outputs": [],
   "source": [
    "pickle.dump(h, open(\"dat/h.pkl\", \"wb\"))\n",
    "pickle.dump(u, open(\"dat/u.pkl\", \"wb\"))"
   ]
  }
 ],
 "metadata": {
  "kernelspec": {
   "display_name": "Python 3",
   "language": "python",
   "name": "python3"
  },
  "language_info": {
   "codemirror_mode": {
    "name": "ipython",
    "version": 3
   },
   "file_extension": ".py",
   "mimetype": "text/x-python",
   "name": "python",
   "nbconvert_exporter": "python",
   "pygments_lexer": "ipython3",
   "version": "3.6.1"
  }
 },
 "nbformat": 4,
 "nbformat_minor": 2
}
