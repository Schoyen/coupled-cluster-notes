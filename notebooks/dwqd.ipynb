{
 "cells": [
  {
   "cell_type": "markdown",
   "metadata": {},
   "source": [
    "# Ground state calculations of the double well quantum dot\n",
    "\n",
    "Given a basis set $\\{\\psi_p\\}_{p = 1}^L$ of single particle functions that are eigenfunctions to the one-body Hamiltonian operator for the double well system, $h_{\\text{DW}}$, i.e.,\n",
    "\n",
    "\\begin{align}\n",
    "    h_{\\text{DW}}\\rvert\\psi_p\\rangle = \\epsilon_p\\rvert\\psi_p\\rangle,\n",
    "\\end{align}\n",
    "\n",
    "where $\\epsilon_p$ is the eigenenergy of the single particle function $\\rvert\\psi_p\\rangle$. The double well one-body operator (with a perturbation in the $x$-direction) is given by\n",
    "\n",
    "\\begin{align}\n",
    "    h_{\\text{DW}}\n",
    "    &= -\\frac{\\hbar^2}{2m}\\nabla^2 + \\frac{1}{2}m\\omega^2 r^2\n",
    "        + \\frac{1}{2}m\\omega^2\\left(\n",
    "            \\frac{1}{4}R^2 - R|x|\n",
    "        \\right) \\\\\n",
    "    &= h_{\\text{HO}} + \\frac{1}{2}m\\omega^2\\left(\n",
    "            \\frac{1}{4}R^2 - R|x|\n",
    "        \\right),\n",
    "\\end{align}\n",
    "where $h_{\\text{HO}}$ is the one-body Hamiltonian for the harmonic oscillator. We can solve this directly by discretizing the space we are working in and constructing the full matrix $h_{\\text{DW}}$ before diagonalizing."
   ]
  },
  {
   "cell_type": "markdown",
   "metadata": {},
   "source": [
    "## Solving the one-dimensional double well quantum dot directly\n",
    "\n",
    "By limiting ourselves to one dimension we can set up the one-body Hamiltonian matrix directly and diagonalize it to find the eigenenergies, $\\epsilon_p$, and the corresponding eigenfunctions, $\\rvert\\psi_p\\rangle$."
   ]
  }
 ],
 "metadata": {
  "kernelspec": {
   "display_name": "Python 3",
   "language": "python",
   "name": "python3"
  },
  "language_info": {
   "codemirror_mode": {
    "name": "ipython",
    "version": 3
   },
   "file_extension": ".py",
   "mimetype": "text/x-python",
   "name": "python",
   "nbconvert_exporter": "python",
   "pygments_lexer": "ipython3",
   "version": "3.6.1"
  }
 },
 "nbformat": 4,
 "nbformat_minor": 2
}
