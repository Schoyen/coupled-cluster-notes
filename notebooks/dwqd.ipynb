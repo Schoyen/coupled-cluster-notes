{
 "cells": [
  {
   "cell_type": "markdown",
   "metadata": {},
   "source": [
    "# Ground state calculations of the double well quantum dot\n",
    "\n",
    "Given a basis set $\\{\\psi_p\\}_{p = 1}^L$ of single particle functions that are eigenfunctions to the one-body Hamiltonian operator for the double well system, $h_{\\text{DW}}$, i.e.,\n",
    "\n",
    "\\begin{align}\n",
    "    h_{\\text{DW}}\\rvert\\psi_p\\rangle = \\epsilon_p\\rvert\\psi_p\\rangle,\n",
    "\\end{align}\n",
    "\n",
    "where $\\epsilon_p$ is the eigenenergy of the single particle function $\\rvert\\psi_p\\rangle$. The double well one-body operator (with a perturbation in the $x$-direction) is given by\n",
    "\n",
    "\\begin{align}\n",
    "    h_{\\text{DW}}\n",
    "    &= -\\frac{\\hbar^2}{2m}\\nabla^2 + \\frac{1}{2}m\\omega^2 r^2\n",
    "        + \\frac{1}{2}m\\omega^2\\left(\n",
    "            \\frac{1}{4}R^2 - R|x|\n",
    "        \\right) \\\\\n",
    "    &= h_{\\text{HO}} + \\frac{1}{2}m\\omega^2\\left(\n",
    "            \\frac{1}{4}R^2 - R|x|\n",
    "        \\right),\n",
    "\\end{align}\n",
    "where $h_{\\text{HO}}$ is the one-body Hamiltonian for the harmonic oscillator. The one-body potentials are thus\n",
    "\n",
    "\\begin{gather}\n",
    "    v_{\\text{HO}} = \\frac{1}{2}m\\omega^2 r^2, \\\\\n",
    "    v_{\\text{DW}} = v_{\\text{HO}} + \\frac{1}{2}m\\omega^2\\left(\n",
    "            \\frac{1}{4}R^2 - R|x|\n",
    "        \\right).\n",
    "\\end{gather}\n",
    "\n",
    "We can solve this directly by discretizing the space we are working in and constructing the full matrix $h_{\\text{DW}}$ before diagonalizing."
   ]
  },
  {
   "cell_type": "markdown",
   "metadata": {},
   "source": [
    "## Solving the one-dimensional double well quantum dot directly\n",
    "\n",
    "By limiting ourselves to one dimension we can set up the one-body Hamiltonian matrix directly and diagonalize it to find the eigenenergies, $\\epsilon_p$, and the corresponding eigenfunctions, $\\rvert\\psi_p\\rangle$."
   ]
  },
  {
   "cell_type": "code",
   "execution_count": 5,
   "metadata": {
    "collapsed": true
   },
   "outputs": [],
   "source": [
    "import numpy as np"
   ]
  },
  {
   "cell_type": "markdown",
   "metadata": {},
   "source": [
    "We restrict ourselves to equal masses and natural units, thus we set\n",
    "\n",
    "\\begin{align}\n",
    "    \\hbar = m = c = 1.\n",
    "\\end{align}"
   ]
  },
  {
   "cell_type": "code",
   "execution_count": 13,
   "metadata": {
    "collapsed": true
   },
   "outputs": [],
   "source": [
    "# Natural units\n",
    "m = 1\n",
    "hbar = 1"
   ]
  },
  {
   "cell_type": "markdown",
   "metadata": {},
   "source": [
    "Below we set the frequency, $\\omega$, and the radius of the double well, $R$."
   ]
  },
  {
   "cell_type": "code",
   "execution_count": 21,
   "metadata": {
    "collapsed": true
   },
   "outputs": [],
   "source": [
    "omega = 1\n",
    "radius = 2"
   ]
  },
  {
   "cell_type": "markdown",
   "metadata": {},
   "source": [
    "Next, we set up the potentials."
   ]
  },
  {
   "cell_type": "code",
   "execution_count": 28,
   "metadata": {},
   "outputs": [],
   "source": [
    "# Note that r is one-dimensional\n",
    "v_ho = lambda r, omega, m=m, hbar=hbar: 0.5*m*omega**2*r**2\n",
    "v_dw = lambda r, omega, radius=radius, m=m, hbar=hbar: v_ho(r, omega, m=m, hbar=hbar) \\\n",
    "    + 0.5*m*omega**2*(0.25*radius**2 - radius*abs(r))"
   ]
  },
  {
   "cell_type": "markdown",
   "metadata": {},
   "source": [
    "### Setting up the one-body Hamiltonian matrix\n",
    "\n",
    "We use central finite differences for the kinetic term in $h_{\\text{DW}}$.\n",
    "\n",
    "\\begin{align}\n",
    "    \\frac{\\text{d}^2 u(x)}{\\text{d} x^2}\n",
    "    \\approx \\frac{u(x + \\Delta x) - 2 u(x) + u(x - \\Delta x)}{(\\Delta x)^2}.\n",
    "\\end{align}\n",
    "\n",
    "By letting the wavefunction $u(x)$ work on the one-dimensional one-body Hamiltonian we get\n",
    "\n",
    "\\begin{align}\n",
    "    h_{\\text{DW}}u(x) = -\\frac{1}{2}\\frac{\\text{d}^2 u(x)}{\\text{d} x^2} + v_{\\text{DW}}u(x).\n",
    "\\end{align}\n",
    "\n",
    "We now discretize the space into $i \\in \\{1, n\\}$ points and insert the finite difference approximation. We label the wavefunction by $u(x_i) = u_i$.\n",
    "\n",
    "\\begin{align}\n",
    "    h_{\\text{DW}}u_{i}\n",
    "    &= -\\frac{1}{2} \\frac{u_{i + 1} - 2 u_i + u_{i - 1}}{(\\Delta x)^2}\n",
    "        + v_{\\text{DW}}u_i \\\\\n",
    "    &= \\left(\\frac{1}{(\\Delta x)^2} + v_{\\text{DW}}\\right) u_i\n",
    "        - \\frac{1}{2(\\Delta x)^2}\\left(u_{i + 1} + u_{i - 1}\\right).\n",
    "\\end{align}\n",
    "\n",
    "By treating $u$ as a vector with components $u_i$ we can construct a matrix from the one-body Hamiltonian.\n",
    "\n",
    "\\begin{align}\n",
    "    h_{\\text{DW}} u\n",
    "    &=\n",
    "    \\begin{pmatrix}\n",
    "        \\frac{1}{(\\Delta x)^2} + v_{\\text{DW}} & -\\frac{1}{2(\\Delta x)^2} & 0 & 0 & \\dots & 0 & 0 \\\\\n",
    "        -\\frac{1}{2(\\Delta x)^2} & \\frac{1}{(\\Delta x)^2} + v_{\\text{DW}} & -\\frac{1}{2(\\Delta x)^2}\n",
    "        & 0 & \\dots & 0 & 0 \\\\\n",
    "        0 & -\\frac{1}{2(\\Delta x)^2} & \\frac{1}{(\\Delta x)^2} + v_{\\text{DW}}\n",
    "        & -\\frac{1}{2(\\Delta x)^2} & \\dots & 0 & 0 \\\\\n",
    "        \\vdots & & \\ddots & & \\dots & & \\\\\n",
    "        0 & 0 & 0 & 0 & \\dots & -\\frac{1}{2(\\Delta x)^2}\n",
    "        & \\frac{1}{(\\Delta x)^2} + v_{\\text{DW}}\n",
    "    \\end{pmatrix}\n",
    "    \\begin{pmatrix}\n",
    "        u_1 \\\\\n",
    "        u_2 \\\\\n",
    "        u_3 \\\\\n",
    "        u_4 \\\\\n",
    "        u_5 \\\\\n",
    "        \\vdots \\\\\n",
    "        u_n\n",
    "    \\end{pmatrix}\n",
    "\\end{align}"
   ]
  },
  {
   "cell_type": "code",
   "execution_count": 27,
   "metadata": {
    "collapsed": true
   },
   "outputs": [],
   "source": [
    "# The size of the spatial room we look at\n",
    "grid_length = -10\n",
    "# Number of points to discretize the grid in\n",
    "num_points = 100"
   ]
  },
  {
   "cell_type": "code",
   "execution_count": 25,
   "metadata": {
    "collapsed": true
   },
   "outputs": [],
   "source": [
    "x = np.linspace(-grid_length, grid_length, num_points)\n",
    "delta_x = x[1] - x[0]"
   ]
  }
 ],
 "metadata": {
  "kernelspec": {
   "display_name": "Python 3",
   "language": "python",
   "name": "python3"
  },
  "language_info": {
   "codemirror_mode": {
    "name": "ipython",
    "version": 3
   },
   "file_extension": ".py",
   "mimetype": "text/x-python",
   "name": "python",
   "nbconvert_exporter": "python",
   "pygments_lexer": "ipython3",
   "version": "3.6.1"
  }
 },
 "nbformat": 4,
 "nbformat_minor": 2
}
