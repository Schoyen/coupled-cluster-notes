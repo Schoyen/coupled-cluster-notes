{
 "cells": [
  {
   "cell_type": "markdown",
   "metadata": {},
   "source": [
    "# Ground state calculations of the double well quantum dot\n",
    "\n",
    "Given a basis set $\\{\\psi_{\\alpha}\\}_{\\alpha = 1}^L$ of single particle functions that are eigenfunctions to the one-body Hamiltonian operator for the double well system, $h_{\\text{DW}}$, i.e.,\n",
    "\n",
    "\\begin{align}\n",
    "    h_{\\text{DW}}\\rvert\\psi_{\\alpha}\\rangle = \\epsilon_{\\alpha}\\rvert\\psi_{\\alpha}\\rangle,\n",
    "\\end{align}\n",
    "\n",
    "where $\\epsilon_{\\alpha}$ is the eigenenergy of the single particle function $\\rvert\\psi_{\\alpha}\\rangle$. The double well one-body operator (with a perturbation in the $x$-direction) is given by\n",
    "\n",
    "\\begin{align}\n",
    "    h_{\\text{DW}}\n",
    "    &= -\\frac{\\hbar^2}{2m}\\nabla^2 + \\frac{1}{2}m\\omega^2 r^2\n",
    "        + \\frac{1}{2}m\\omega^2\\left(\n",
    "            \\frac{1}{4}R^2 - R|x|\n",
    "        \\right) \\\\\n",
    "    &= h_{\\text{HO}} + \\frac{1}{2}m\\omega^2\\left(\n",
    "            \\frac{1}{4}R^2 - R|x|\n",
    "        \\right),\n",
    "\\end{align}\n",
    "where $h_{\\text{HO}}$ is the one-body Hamiltonian for the harmonic oscillator. The one-body potentials are thus\n",
    "\n",
    "\\begin{gather}\n",
    "    v_{\\text{HO}} = \\frac{1}{2}m\\omega^2 r^2, \\\\\n",
    "    v_{\\text{DW}} = v_{\\text{HO}} + \\frac{1}{2}m\\omega^2\\left(\n",
    "            \\frac{1}{4}R^2 - R|x|\n",
    "        \\right).\n",
    "\\end{gather}\n",
    "\n",
    "We can solve this directly by discretizing the space we are working in and constructing the full matrix $h_{\\text{DW}}$ before diagonalizing."
   ]
  },
  {
   "cell_type": "markdown",
   "metadata": {},
   "source": [
    "## Solving the one-dimensional double well quantum dot directly\n",
    "\n",
    "By limiting ourselves to one dimension we can set up the one-body Hamiltonian matrix directly and diagonalize it to find the eigenenergies, $\\epsilon_{\\alpha}$, and the corresponding eigenfunctions, $\\rvert\\psi_{\\alpha}\\rangle$."
   ]
  },
  {
   "cell_type": "code",
   "execution_count": 53,
   "metadata": {
    "collapsed": true
   },
   "outputs": [],
   "source": [
    "%matplotlib inline\n",
    "\n",
    "import numpy as np\n",
    "import pandas as pd\n",
    "import scipy.sparse\n",
    "import scipy.sparse.linalg\n",
    "import time\n",
    "import matplotlib.pyplot as plt\n",
    "import scipy.special\n",
    "\n",
    "from mpl_toolkits.mplot3d import Axes3D\n",
    "\n",
    "from IPython.core.display import display"
   ]
  },
  {
   "cell_type": "markdown",
   "metadata": {},
   "source": [
    "We restrict ourselves to equal masses and natural units, thus we set\n",
    "\n",
    "\\begin{align}\n",
    "    \\hbar = m = c = 1.\n",
    "\\end{align}"
   ]
  },
  {
   "cell_type": "code",
   "execution_count": 13,
   "metadata": {
    "collapsed": true
   },
   "outputs": [],
   "source": [
    "# Natural units\n",
    "m = 1\n",
    "hbar = 1"
   ]
  },
  {
   "cell_type": "markdown",
   "metadata": {},
   "source": [
    "Below we set the frequency, $\\omega$, and the radius of the double well, $R$."
   ]
  },
  {
   "cell_type": "code",
   "execution_count": 21,
   "metadata": {
    "collapsed": true
   },
   "outputs": [],
   "source": [
    "omega = 1\n",
    "radius = 2"
   ]
  },
  {
   "cell_type": "markdown",
   "metadata": {},
   "source": [
    "Next, we set up the potentials."
   ]
  },
  {
   "cell_type": "code",
   "execution_count": 28,
   "metadata": {
    "collapsed": true
   },
   "outputs": [],
   "source": [
    "# Note that r is one-dimensional\n",
    "v_ho = lambda r, omega, m=m, hbar=hbar: 0.5*m*omega**2*r**2\n",
    "v_dw = lambda r, omega, radius=radius, m=m, hbar=hbar: v_ho(r, omega, m=m, hbar=hbar) \\\n",
    "    + 0.5*m*omega**2*(0.25*radius**2 - radius*abs(r))"
   ]
  },
  {
   "cell_type": "markdown",
   "metadata": {},
   "source": [
    "### Setting up the one-body Hamiltonian matrix\n",
    "\n",
    "We use central finite differences for the kinetic term in $h_{\\text{DW}}$.\n",
    "\n",
    "\\begin{align}\n",
    "    \\frac{\\text{d}^2 u(x)}{\\text{d} x^2}\n",
    "    \\approx \\frac{u(x + \\Delta x) - 2 u(x) + u(x - \\Delta x)}{(\\Delta x)^2}.\n",
    "\\end{align}\n",
    "\n",
    "By letting the wavefunction $u(x)$ work on the one-dimensional one-body Hamiltonian we get\n",
    "\n",
    "\\begin{align}\n",
    "    h_{\\text{DW}}u(x) = -\\frac{1}{2}\\frac{\\text{d}^2 u(x)}{\\text{d} x^2} + v_{\\text{DW}}u(x).\n",
    "\\end{align}\n",
    "\n",
    "We now discretize the space into $i \\in \\{1, n\\}$ points and insert the finite difference approximation. We label the wavefunction by $u(x_i) = u_i$.\n",
    "\n",
    "\\begin{align}\n",
    "    h_{\\text{DW}}u_{i}\n",
    "    &= -\\frac{1}{2} \\frac{u_{i + 1} - 2 u_i + u_{i - 1}}{(\\Delta x)^2}\n",
    "        + v_{\\text{DW}}u_i \\\\\n",
    "    &= \\left(\\frac{1}{(\\Delta x)^2} + v_{\\text{DW}}\\right) u_i\n",
    "        - \\frac{1}{2(\\Delta x)^2}\\left(u_{i + 1} + u_{i - 1}\\right).\n",
    "\\end{align}\n",
    "\n",
    "By treating $u$ as a vector with components $u_i$ we can construct a matrix from the one-body Hamiltonian.\n",
    "\n",
    "\\begin{align}\n",
    "    h_{\\text{DW}} u\n",
    "    &=\n",
    "    \\begin{pmatrix}\n",
    "        \\frac{1}{(\\Delta x)^2} + v_{\\text{DW}} & -\\frac{1}{2(\\Delta x)^2} & 0 & 0 & \\dots & 0 & 0 \\\\\n",
    "        -\\frac{1}{2(\\Delta x)^2} & \\frac{1}{(\\Delta x)^2} + v_{\\text{DW}} & -\\frac{1}{2(\\Delta x)^2}\n",
    "        & 0 & \\dots & 0 & 0 \\\\\n",
    "        0 & -\\frac{1}{2(\\Delta x)^2} & \\frac{1}{(\\Delta x)^2} + v_{\\text{DW}}\n",
    "        & -\\frac{1}{2(\\Delta x)^2} & \\dots & 0 & 0 \\\\\n",
    "        \\vdots & & \\ddots & & \\dots & & \\\\\n",
    "        0 & 0 & 0 & 0 & \\dots & -\\frac{1}{2(\\Delta x)^2}\n",
    "        & \\frac{1}{(\\Delta x)^2} + v_{\\text{DW}}\n",
    "    \\end{pmatrix}\n",
    "    \\begin{pmatrix}\n",
    "        u_1 \\\\\n",
    "        u_2 \\\\\n",
    "        u_3 \\\\\n",
    "        u_4 \\\\\n",
    "        u_5 \\\\\n",
    "        \\vdots \\\\\n",
    "        u_n\n",
    "    \\end{pmatrix}\n",
    "\\end{align}\n",
    "\n",
    "Incidentally, the choice of $n$ decides how many eigenstates we can extract. This is the same as $L$ in the number of basis functions for our problem. Nyquist's theorem tells us that we must have at least, in practice even more, twice as many grid points $n$ to get the eigenstate $\\psi_{n/2}$."
   ]
  },
  {
   "cell_type": "code",
   "execution_count": 66,
   "metadata": {
    "collapsed": true
   },
   "outputs": [],
   "source": [
    "# The size of the spatial room we look at\n",
    "grid_length = -10\n",
    "# Number of points to discretize the grid in\n",
    "num_points = 1000"
   ]
  },
  {
   "cell_type": "code",
   "execution_count": 67,
   "metadata": {
    "collapsed": true
   },
   "outputs": [],
   "source": [
    "x = np.linspace(-grid_length, grid_length, num_points)\n",
    "delta_x = x[1] - x[0]"
   ]
  },
  {
   "cell_type": "code",
   "execution_count": 68,
   "metadata": {},
   "outputs": [
    {
     "name": "stdout",
     "output_type": "stream",
     "text": [
      "[[ 2535.32252022  1247.50125        0.         ...,     0.             0.\n",
      "      0.        ]\n",
      " [ 1247.50125     2535.14294124  1247.50125    ...,     0.             0.\n",
      "      0.        ]\n",
      " [    0.          1247.50125     2534.96376306 ...,     0.             0.\n",
      "      0.        ]\n",
      " ..., \n",
      " [    0.             0.             0.         ...,  2534.96376306\n",
      "   1247.50125        0.        ]\n",
      " [    0.             0.             0.         ...,  1247.50125\n",
      "   2535.14294124  1247.50125   ]\n",
      " [    0.             0.             0.         ...,     0.          1247.50125\n",
      "   2535.32252022]]\n"
     ]
    }
   ],
   "source": [
    "h_diag = 1.0/(delta_x**2) + v_dw(\n",
    "    x[1:num_points - 1], omega=omega, radius=radius, m=m, hbar=hbar)\n",
    "h_off_diag = 1.0/(2*delta_x**2)\n",
    "\n",
    "h = scipy.sparse.diags([h_diag, h_off_diag, h_off_diag], offsets=[0, 1, -1])\n",
    "\n",
    "print (h.toarray())"
   ]
  },
  {
   "cell_type": "code",
   "execution_count": 69,
   "metadata": {},
   "outputs": [
    {
     "name": "stdout",
     "output_type": "stream",
     "text": [
      "Time spent on solving the eigenvalue problem: 0.360 sec\n"
     ]
    }
   ],
   "source": [
    "t0 = time.time()\n",
    "epsilon, psi = scipy.sparse.linalg.eigs(h, k=3, which=\"SM\")\n",
    "t1 = time.time()\n",
    "\n",
    "print (\"Time spent on solving the eigenvalue problem: {0:.3f} sec\".format(t1 - t0))"
   ]
  },
  {
   "cell_type": "code",
   "execution_count": 70,
   "metadata": {},
   "outputs": [
    {
     "data": {
      "image/png": "[encoded data removed]",
      "text/plain": [
       "<matplotlib.figure.Figure at 0x108cf87f0>"
      ]
     },
     "metadata": {},
     "output_type": "display_data"
    }
   ],
   "source": [
    "plt.plot(x[1:-1], np.abs(psi[:, 0])**2)\n",
    "plt.title(\n",
    "    (r\"Ground state probability density for $\\omega = ${0}\"\n",
    "    + \" and $R = ${1}\").format(omega, radius))\n",
    "plt.xlabel(r\"$x$\")\n",
    "plt.ylabel(r\"$|\\psi(x)|^2$\")\n",
    "plt.show()"
   ]
  },
  {
   "cell_type": "code",
   "execution_count": 71,
   "metadata": {},
   "outputs": [
    {
     "data": {
      "image/png": "[encoded data removed]",
      "text/plain": [
       "<matplotlib.figure.Figure at 0x10d72c898>"
      ]
     },
     "metadata": {},
     "output_type": "display_data"
    }
   ],
   "source": [
    "plt.plot(x[1:-1], np.abs(psi[:, 1])**2)\n",
    "plt.title(\n",
    "    (r\"First excited state probability density for $\\omega = ${0}\"\n",
    "    + \" and $R = ${1}\").format(omega, radius))\n",
    "plt.xlabel(r\"$x$\")\n",
    "plt.ylabel(r\"$|\\psi(x)|^2$\")\n",
    "plt.show()"
   ]
  },
  {
   "cell_type": "code",
   "execution_count": 72,
   "metadata": {},
   "outputs": [
    {
     "data": {
      "image/png": "[encoded data removed]",
      "text/plain": [
       "<matplotlib.figure.Figure at 0x10e829358>"
      ]
     },
     "metadata": {},
     "output_type": "display_data"
    }
   ],
   "source": [
    "plt.plot(x[1:-1], np.abs(psi[:, 2])**2)\n",
    "plt.title(\n",
    "    (r\"Second excited state probability density for $\\omega = ${0}\"\n",
    "    + \" and $R = ${1}\").format(omega, radius))\n",
    "plt.xlabel(r\"$x$\")\n",
    "plt.ylabel(r\"$|\\psi(x)|^2$\")\n",
    "plt.show()"
   ]
  },
  {
   "cell_type": "markdown",
   "metadata": {},
   "source": [
    "## Double well quantum dot in higher dimensions\n",
    "\n",
    "The brute force approach shown above quickly grows in complexity by introducing more dimensions to the problem. This because the grid we are discretizing gets extra dimensions. By moving from one dimension where the problem of solving the differential equation is on the order of $\\mathcal{O}(n^2)$ to two dimensionsions we get a complexity of $\\mathcal{O}(n^4)$. To make it worse, when we include interactions we have to solve the integral\n",
    "\n",
    "\\begin{align}\n",
    "    \\langle\\psi_{\\alpha}\\psi_{\\beta}\\lvert u \\rvert\\psi_{\\gamma}\\psi_{\\delta}\\rangle\n",
    "    &= \\int\\text{d}\\mathbf{r}_1\\text{d}\\mathbf{r}_2\n",
    "    \\psi_{\\alpha}^*(\\mathbf{r}_1)\\psi_{\\beta}^*(\\mathbf{r}_2)\n",
    "    u(\\mathbf{r}_1, \\mathbf{r}_2)\n",
    "    \\psi_{\\gamma}(\\mathbf{r}_1)\\psi_{\\delta}(\\mathbf{r}_2),\n",
    "\\end{align}\n",
    "\n",
    "where the Coulomb interaction is given by (in natural units)\n",
    "\n",
    "\\begin{align}\n",
    "    u(\\mathbf{r}_1, \\mathbf{r}_2)\n",
    "    &= \\frac{1}{|\\mathbf{r}_1 - \\mathbf{r}_2|}.\n",
    "\\end{align}\n",
    "\n",
    "This integral is $\\mathcal{O}(n^4)$ hard. As we have to do this for the matrix $u \\in \\mathbb{R}^{n \\times n \\times n \\times n}$. This results in $\\mathcal{O}(n^8)$ operations."
   ]
  },
  {
   "cell_type": "markdown",
   "metadata": {},
   "source": [
    "### Change of basis\n",
    "\n",
    "To avoid calculating the integral we expand the double well eigenstates as a linear combination of known eigenstates in a different basis state. Mathematically expressed as\n",
    "\n",
    "\\begin{align}\n",
    "    \\lvert\\psi_{\\alpha}\\rangle\n",
    "    &= \\sum_{p = 1}^M \\rvert\\phi_p\\rangle\\langle \\phi_p\\lvert \\psi_{\\alpha}\\rangle \\\\\n",
    "    &= \\sum_{p = 1}^M c_{p\\alpha} \\lvert\\phi_p\\rangle,\n",
    "\\end{align}\n",
    "\n",
    "where $\\{\\phi_p\\}_{p = 1}^M$ is a known set of eigenstates, e.g., eigenstates to the harmonic oscillator, and $c_{p\\alpha}$ are coefficients. Strictly speaking the equality when we change basis should be an approximation as we are not guaranteed that the set of $M$ basis functions $\\{\\phi_p\\}$ can exactly approximate the basis functions $\\{\\psi_{\\alpha}\\}$. This lets us rewrite the one-body double well eigenequation as\n",
    "\n",
    "\\begin{gather}\n",
    "    h_{\\text{DW}}\\lvert\\psi_{\\alpha}\\rangle = \\epsilon_{\\alpha}\\lvert\\psi_{\\alpha}\\rangle \\\\\n",
    "    \\implies\n",
    "    h_{\\text{DW}}\\sum_{p = 1}^M c_{p\\alpha}\\lvert\\phi_p\\rangle\n",
    "    = \\epsilon_{\\alpha}\\sum_{p = 1}^M c_{p\\alpha} \\lvert\\phi_p\\rangle.\n",
    "\\end{gather}\n",
    "\n",
    "By projecting the latter equation onto a function from the known basis we get\n",
    "\n",
    "\\begin{gather}\n",
    "    \\sum_{p = 1}^M \\langle\\phi_q\\rvert h_{\\text{DW}}\\lvert\\phi_p\\rangle c_{p\\alpha}\n",
    "    = \\epsilon_{\\alpha}\\sum_{p = 1}^M \\langle\\phi_q\\lvert\\phi_p\\rangle c_{p\\alpha} \\\\\n",
    "    \\implies\n",
    "    HC = SC\\epsilon,\n",
    "\\end{gather}\n",
    "\n",
    "where $H_{qp} = \\langle\\phi_q\\rvert h_{\\text{DW}}\\lvert\\phi_p\\rangle$, $C_{p\\alpha} = c_{p\\alpha}$ is a $M\\times L$-matrix, $S_{qp} = \\langle\\phi_q\\lvert\\phi_p\\rangle$ and $\\epsilon = \\text{diag}(\\epsilon_1, \\dots, \\epsilon_L)$. Further, if $S = I \\iff \\langle\\phi_q\\lvert\\phi_p\\rangle = \\delta_{qp}$, where $I$ is the identity matrix."
   ]
  },
  {
   "cell_type": "markdown",
   "metadata": {},
   "source": [
    "#### Solving the matrix equation\n",
    "\n",
    "To solve the matrix equation shown above we first have to compute the matrix elements $H_{ik}$. As we have an expression for the one-body operator $h$ and we choose known SPF's $\\lvert\\phi_k\\rangle$ we can sometimes simplify the expressions or do this analytically. Knowing the matrix $H$ and the overlap matrix $S$ we are able to solve the _generalized eigenvalue problem_\n",
    "\n",
    "\\begin{align}\n",
    "    HC = SC\\epsilon.\n",
    "\\end{align}\n",
    "\n",
    "This gives an expression for the coefficient matrix $C$ and the eigenenergies $\\epsilon$ for the one-body operator."
   ]
  },
  {
   "cell_type": "markdown",
   "metadata": {},
   "source": [
    "#### The two-body problem\n",
    "\n",
    "Once we know the matrix $C$ we can use this to compute the two-body integrals in the known basis.\n",
    "\n",
    "\\begin{align}\n",
    "    \\langle\\psi_{\\alpha}\\psi_{\\beta}\\lvert u \\rvert\\psi_{\\gamma}\\psi_{\\delta}\\rangle\n",
    "    &=\n",
    "    \\sum_{pqrs}^{M} c_{p\\alpha}^{*} c_{q\\beta}^{*} c_{r\\gamma} c_{s\\delta}\n",
    "    \\langle\\phi_{p}\\phi_{q}\\lvert u \\rvert\\phi_{r}\\phi_{s}\\rangle,\n",
    "\\end{align}\n",
    "\n",
    "where $c_{p\\alpha}^{*} = c_{\\alpha p}$. There is still the problem of computing the two-body matrix elements in the known basis set. The hope is that we can choose a basis set $\\{\\phi_p\\}$ for which this problem simplifies or even becomes analytically solvable. The general method is to define some numerical scheme and solve $2d$-integral, where $d$ is the number of dimensionsions we are looking at. We can rewrite the integral as follows\n",
    "\n",
    "\\begin{align}\n",
    "    \\langle\\phi_{p}\\phi_{q}\\lvert u \\rvert\\phi_{r}\\phi_{s}\\rangle\n",
    "    &=\n",
    "    \\int\\text{d}x_1\\text{d}x_2\n",
    "    \\phi_{p}^{*}(x_1)\\phi_{q}^{*}(x_2) u(x_1, x_2) \\phi_{r}(x_1)\\phi_{s}(x_2)\n",
    "    \\\\\n",
    "    &=\n",
    "    \\int\\text{d}x_1\n",
    "    \\phi_{p}^{*}(x_1)\n",
    "    \\Biggl[\n",
    "        \\int\\text{d}x_2\n",
    "        \\phi_{q}^{*}(x_2) u(x_1, x_2) \\phi_{s}(x_2)\n",
    "    \\Biggr]\n",
    "    \\phi_{r}(x_1)\n",
    "    \\\\\n",
    "    &=\n",
    "    \\int\\text{d}x_1\n",
    "    \\phi_{p}^{*}(x_1)\n",
    "    W_s^q(x_1)\n",
    "    \\phi_{r}(x_1),\n",
    "\\end{align}\n",
    "\n",
    "where $x_i \\in \\mathbb{R}^{d}$. The spin component is typically factored out as Kronecker-Delta's in front of the integral or before defining the bra-ket product. We can choose the integral limits by finding a $d$-dimensional grid which avoids cutting of the wavefunction prematurely."
   ]
  },
  {
   "cell_type": "markdown",
   "metadata": {},
   "source": [
    "#### Anti-symmetric two-body matrix elements\n",
    "\n",
    "The final step needed is to construct the anti-symmetric two-body matrix elements. We define these by\n",
    "\n",
    "\\begin{align}\n",
    "    u^{\\alpha\\beta}_{\\gamma\\delta}\n",
    "    &=\n",
    "    \\langle\\psi_{\\alpha}\\psi_{\\beta}\\lvert u \\rvert\\psi_{\\gamma}\\psi_{\\delta}\\rangle\n",
    "    - \\langle\\psi_{\\alpha}\\psi_{\\beta}\\lvert u \\rvert\\psi_{\\delta}\\psi_{\\gamma}\\rangle.\n",
    "\\end{align}"
   ]
  },
  {
   "cell_type": "markdown",
   "metadata": {},
   "source": [
    "## Double well quantum dot in terms of two dimensional polar harmonic oscillators\n",
    "\n",
    "We now provide an example on how to approximate the double well quantum dot in two dimensions using two dimensional harmonic oscillator functions in polar coordinates."
   ]
  },
  {
   "cell_type": "markdown",
   "metadata": {},
   "source": [
    "### Two dimensional harmonic oscillators\n",
    "\n",
    "The two dimensional harmonic oscillator functions in polar coordinates are known analytically. They are given by\n",
    "\n",
    "\\begin{align}\n",
    "    \\phi_{nm}(r, \\theta)\n",
    "    &= ae^{im\\theta}\n",
    "    \\sqrt{\\frac{n!}{\\pi(n + |m|)!}}\n",
    "    (ar)^{|m|} L_n^{|m|}(a^2r^2)\n",
    "    e^{-a^2r^2/2},\n",
    "\\end{align}\n",
    "\n",
    "where $a = \\sqrt{m\\omega/\\hbar}$, $L_n^{|m|}(x)$ the associated Laguerre polynomials and $n$ and $m$ the principal and azimuthal quantum numbers respectively."
   ]
  },
  {
   "cell_type": "code",
   "execution_count": 52,
   "metadata": {
    "collapsed": true
   },
   "outputs": [],
   "source": [
    "def phi_nm(r, theta, n, m, omega=1):\n",
    "    norm = np.sqrt(scipy.special.factorial(n)/(np.pi*scipy.special.factorial(n + abs(m))))\n",
    "    a = np.sqrt(omega)\n",
    "    theta_dep = np.exp(1j*m*theta)\n",
    "    lag = scipy.special.assoc_laguerre(a**2*r**2, n, abs(m))\n",
    "    rad_dep = np.exp(-a**2*r**2/2.0)\n",
    "\n",
    "    return a*theta_dep*norm*(a*r)**(abs(m))*lag*rad_dep"
   ]
  },
  {
   "cell_type": "code",
   "execution_count": 56,
   "metadata": {},
   "outputs": [
    {
     "data": {
      "image/png": "[encoded data removed]",
      "text/plain": [
       "<matplotlib.figure.Figure at 0x112be1048>"
      ]
     },
     "metadata": {},
     "output_type": "display_data"
    }
   ],
   "source": [
    "fig = plt.figure()\n",
    "ax = fig.add_subplot(111, projection=\"3d\")\n",
    "\n",
    "ax.plot()"
   ]
  },
  {
   "cell_type": "markdown",
   "metadata": {},
   "source": [
    "#### Indexing the single particle functions\n",
    "\n",
    "As we use a single index to determine which SPF we wish to use when computing the matrix elements $H$ and $u$ we need to relabel the indices. We wish to create an index labeling function on the form $f(n, m) = p$ such that we get $\\rvert\\phi_{nm}\\rangle = \\rvert\\phi_{p}\\rangle$. Below we show how we can tabulate the conversion between these indices in Pandas."
   ]
  },
  {
   "cell_type": "code",
   "execution_count": 59,
   "metadata": {},
   "outputs": [
    {
     "data": {
      "text/html": [
       "<div>\n",
       "<style>\n",
       "    .dataframe thead tr:only-child th {\n",
       "        text-align: right;\n",
       "    }\n",
       "\n",
       "    .dataframe thead th {\n",
       "        text-align: left;\n",
       "    }\n",
       "\n",
       "    .dataframe tbody tr th {\n",
       "        vertical-align: top;\n",
       "    }\n",
       "</style>\n",
       "<table border=\"1\" class=\"dataframe\">\n",
       "  <thead>\n",
       "    <tr style=\"text-align: right;\">\n",
       "      <th></th>\n",
       "      <th>energy</th>\n",
       "      <th>n</th>\n",
       "      <th>m</th>\n",
       "      <th>p</th>\n",
       "    </tr>\n",
       "  </thead>\n",
       "  <tbody>\n",
       "    <tr>\n",
       "      <th>(0, 0)</th>\n",
       "      <td>1</td>\n",
       "      <td>0</td>\n",
       "      <td>0</td>\n",
       "      <td>0</td>\n",
       "    </tr>\n",
       "    <tr>\n",
       "      <th>(0, -1)</th>\n",
       "      <td>2</td>\n",
       "      <td>0</td>\n",
       "      <td>-1</td>\n",
       "      <td>1</td>\n",
       "    </tr>\n",
       "    <tr>\n",
       "      <th>(0, 1)</th>\n",
       "      <td>2</td>\n",
       "      <td>0</td>\n",
       "      <td>1</td>\n",
       "      <td>2</td>\n",
       "    </tr>\n",
       "    <tr>\n",
       "      <th>(0, -2)</th>\n",
       "      <td>3</td>\n",
       "      <td>0</td>\n",
       "      <td>-2</td>\n",
       "      <td>3</td>\n",
       "    </tr>\n",
       "    <tr>\n",
       "      <th>(1, 0)</th>\n",
       "      <td>3</td>\n",
       "      <td>1</td>\n",
       "      <td>0</td>\n",
       "      <td>4</td>\n",
       "    </tr>\n",
       "    <tr>\n",
       "      <th>(0, 2)</th>\n",
       "      <td>3</td>\n",
       "      <td>0</td>\n",
       "      <td>2</td>\n",
       "      <td>5</td>\n",
       "    </tr>\n",
       "    <tr>\n",
       "      <th>(0, -3)</th>\n",
       "      <td>4</td>\n",
       "      <td>0</td>\n",
       "      <td>-3</td>\n",
       "      <td>6</td>\n",
       "    </tr>\n",
       "    <tr>\n",
       "      <th>(1, -1)</th>\n",
       "      <td>4</td>\n",
       "      <td>1</td>\n",
       "      <td>-1</td>\n",
       "      <td>7</td>\n",
       "    </tr>\n",
       "    <tr>\n",
       "      <th>(1, 1)</th>\n",
       "      <td>4</td>\n",
       "      <td>1</td>\n",
       "      <td>1</td>\n",
       "      <td>8</td>\n",
       "    </tr>\n",
       "    <tr>\n",
       "      <th>(0, 3)</th>\n",
       "      <td>4</td>\n",
       "      <td>0</td>\n",
       "      <td>3</td>\n",
       "      <td>9</td>\n",
       "    </tr>\n",
       "    <tr>\n",
       "      <th>(0, -4)</th>\n",
       "      <td>5</td>\n",
       "      <td>0</td>\n",
       "      <td>-4</td>\n",
       "      <td>10</td>\n",
       "    </tr>\n",
       "    <tr>\n",
       "      <th>(1, -2)</th>\n",
       "      <td>5</td>\n",
       "      <td>1</td>\n",
       "      <td>-2</td>\n",
       "      <td>11</td>\n",
       "    </tr>\n",
       "    <tr>\n",
       "      <th>(2, 0)</th>\n",
       "      <td>5</td>\n",
       "      <td>2</td>\n",
       "      <td>0</td>\n",
       "      <td>12</td>\n",
       "    </tr>\n",
       "    <tr>\n",
       "      <th>(1, 2)</th>\n",
       "      <td>5</td>\n",
       "      <td>1</td>\n",
       "      <td>2</td>\n",
       "      <td>13</td>\n",
       "    </tr>\n",
       "    <tr>\n",
       "      <th>(0, 4)</th>\n",
       "      <td>5</td>\n",
       "      <td>0</td>\n",
       "      <td>4</td>\n",
       "      <td>14</td>\n",
       "    </tr>\n",
       "    <tr>\n",
       "      <th>(0, -5)</th>\n",
       "      <td>6</td>\n",
       "      <td>0</td>\n",
       "      <td>-5</td>\n",
       "      <td>15</td>\n",
       "    </tr>\n",
       "    <tr>\n",
       "      <th>(1, -3)</th>\n",
       "      <td>6</td>\n",
       "      <td>1</td>\n",
       "      <td>-3</td>\n",
       "      <td>16</td>\n",
       "    </tr>\n",
       "    <tr>\n",
       "      <th>(2, -1)</th>\n",
       "      <td>6</td>\n",
       "      <td>2</td>\n",
       "      <td>-1</td>\n",
       "      <td>17</td>\n",
       "    </tr>\n",
       "    <tr>\n",
       "      <th>(2, 1)</th>\n",
       "      <td>6</td>\n",
       "      <td>2</td>\n",
       "      <td>1</td>\n",
       "      <td>18</td>\n",
       "    </tr>\n",
       "    <tr>\n",
       "      <th>(1, 3)</th>\n",
       "      <td>6</td>\n",
       "      <td>1</td>\n",
       "      <td>3</td>\n",
       "      <td>19</td>\n",
       "    </tr>\n",
       "  </tbody>\n",
       "</table>\n",
       "</div>"
      ],
      "text/plain": [
       "         energy  n  m   p\n",
       "(0, 0)        1  0  0   0\n",
       "(0, -1)       2  0 -1   1\n",
       "(0, 1)        2  0  1   2\n",
       "(0, -2)       3  0 -2   3\n",
       "(1, 0)        3  1  0   4\n",
       "(0, 2)        3  0  2   5\n",
       "(0, -3)       4  0 -3   6\n",
       "(1, -1)       4  1 -1   7\n",
       "(1, 1)        4  1  1   8\n",
       "(0, 3)        4  0  3   9\n",
       "(0, -4)       5  0 -4  10\n",
       "(1, -2)       5  1 -2  11\n",
       "(2, 0)        5  2  0  12\n",
       "(1, 2)        5  1  2  13\n",
       "(0, 4)        5  0  4  14\n",
       "(0, -5)       6  0 -5  15\n",
       "(1, -3)       6  1 -3  16\n",
       "(2, -1)       6  2 -1  17\n",
       "(2, 1)        6  2  1  18\n",
       "(1, 3)        6  1  3  19"
      ]
     },
     "metadata": {},
     "output_type": "display_data"
    }
   ],
   "source": [
    "index_table = pd.DataFrame(\n",
    "    index=[(n, m) for n in range(5) for m in range(-5, 6)],\n",
    "    columns=[\"energy\", \"n\", \"m\", \"p\"])\n",
    "\n",
    "# Set up the values for n and m in their respective columns\n",
    "index_table.n = [i[0] for i in index_table.index]\n",
    "index_table.m = [i[1] for i in index_table.index]\n",
    "\n",
    "# Compute the energy with hbar = omega = 1\n",
    "index_table.energy = list(map(lambda i: 2*i[0] + abs(i[1]) + 1, index_table.index))\n",
    "\n",
    "# Sort the values according to energy and then m\n",
    "index_table = index_table.sort_values(by=[\"energy\", \"m\"])\n",
    "\n",
    "# Insert increasing numbers for p in the sorted table\n",
    "index_table.p = [i for i in range(len(index_table))]\n",
    "\n",
    "display(index_table.head(20))"
   ]
  },
  {
   "cell_type": "code",
   "execution_count": 78,
   "metadata": {},
   "outputs": [],
   "source": [
    "n = index_table.loc[index_table.p == 2].n\n",
    "m = index_table.loc[index_table.p == 2].m"
   ]
  }
 ],
 "metadata": {
  "kernelspec": {
   "display_name": "Python 3",
   "language": "python",
   "name": "python3"
  },
  "language_info": {
   "codemirror_mode": {
    "name": "ipython",
    "version": 3
   },
   "file_extension": ".py",
   "mimetype": "text/x-python",
   "name": "python",
   "nbconvert_exporter": "python",
   "pygments_lexer": "ipython3",
   "version": "3.6.1"
  }
 },
 "nbformat": 4,
 "nbformat_minor": 2
}
