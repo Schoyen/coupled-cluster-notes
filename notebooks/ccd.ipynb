{
 "cells": [
  {
   "cell_type": "markdown",
   "metadata": {},
   "source": [
    "# Coupled-cluster doubles\n",
    "\n",
    "In this notebook we set up a general solver for CCD given matrices $h_{p}^{q}$ and $u^{pq}_{rs}$, where the latter is _anti-symmetric_."
   ]
  },
  {
   "cell_type": "code",
   "execution_count": 2,
   "metadata": {
    "collapsed": true
   },
   "outputs": [],
   "source": [
    "import pickle\n",
    "import numpy as np"
   ]
  },
  {
   "cell_type": "markdown",
   "metadata": {},
   "source": [
    "We start by retrieving the pickled one-body and two-body matrix elements generated in the `matrix_elements.ipynb`-notebook."
   ]
  },
  {
   "cell_type": "code",
   "execution_count": 3,
   "metadata": {
    "collapsed": true
   },
   "outputs": [],
   "source": [
    "with open(\"dat/h.pkl\", \"rb\") as f:\n",
    "    h = pickle.load(f)\n",
    "with open(\"dat/u.pkl\", \"rb\") as f:\n",
    "    u = pickle.load(f)"
   ]
  },
  {
   "cell_type": "markdown",
   "metadata": {},
   "source": [
    "## Iteration scheme\n",
    "\n",
    "Using the equations (A7a and A7b) listed in \"Ab initio quantum dynamics using coupled-cluster\" by Simen Kvaal we can define iterations to find the amplitudes $\\tau$. We define (note that there are no summing in these expressions)\n",
    "\n",
    "\\begin{align}\n",
    "    f_{ij}^{ab} &= \\frac{\\partial}{\\partial \\lambda_{ab}^{ij}}\\mathcal{E}_{H^{(1)}} \\\\\n",
    "        &= -h_{c}^{a}\\tau_{ij}^{bc}P(ab) + h_{i}^{k}\\tau_{jk}^{ab}P(ij),\n",
    "\\end{align}\n",
    "\n",
    "where $P(ij)$ is the anti-symmetrization operator permuting the two indices $i$, $j$ and subtracting the result. We start by assuming that $h$ is a diagonal matrix thus making a simplified expression for the right hand side of $f$.\n",
    "\n",
    "\\begin{align}\n",
    "    f_{ij}^{ab} &= -h_{a}^{a}\\tau_{ij}^{ba}P(ab) + h_{i}^{i}\\tau_{ji}^{ab}P(ij) \\\\\n",
    "        &= -h_{a}^{a}\\tau_{ij}^{ba} + h_{b}^{b}\\tau_{ij}^{ab}\n",
    "            + h_{i}^{i}\\tau_{ji}^{ab} - h_{j}^{j}\\tau_{ij}^{ab} \\\\\n",
    "        &= (h_{a}^{a} + h_{b}^{b} - h_{i}^{i} - h_{j}^{j})\\tau_{ij}^{ab} \\\\\n",
    "        &= -D_{ij}^{ab}\\tau_{ij}^{ab},\n",
    "\\end{align}\n",
    "\n",
    "where $D = D(h)$ given by\n",
    "\n",
    "\\begin{align}\n",
    "    D_{ij}^{ab} = h_{i}^{i} + h_j^j - h_a^a - h_b^b.\n",
    "\\end{align}\n",
    "\n",
    "The equations from A7b in Kvaal's article is given by\n",
    "\n",
    "\\begin{align}\n",
    "    g_{ij}^{ab} &= \\frac{\\partial}{\\partial\\lambda_{ab}^{ij}}\\mathcal{E}_{H^{(2)}} \\\\\n",
    "        &= - \\frac{\\tau^{dc}_{jm} \\tau^{ba}_{in}}{2} u^{mn}_{dc} P(ij)\n",
    "            + \\frac{\\tau^{dc}_{ji} \\tau^{ba}_{mn}}{4} u^{mn}_{dc}\n",
    "            + \\frac{\\tau^{dc}_{ji} u^{ba}_{dc}}{2} \\\\\n",
    "            &\\qquad\n",
    "            - \\tau^{ac}_{im} \\tau^{bd}_{jn} u^{mn}_{dc} P(ij)\n",
    "            + \\tau^{ac}_{im} u^{bm}_{jc} P(ab) P(ij)\n",
    "            - \\frac{\\tau^{ac}_{ji} \\tau^{bd}_{mn}}{2} u^{mn}_{dc} P(ab) \\\\\n",
    "            &\\qquad\n",
    "            - \\tau^{ac}_{ji} u^{bm}_{cm} P(ab)\n",
    "            + \\frac{\\tau^{ba}_{mn} u^{mn}_{ji}}{2}\n",
    "            + \\tau^{ba}_{im} u^{mn}_{jn} P(ij) + u^{ba}_{ji}.\n",
    "\\end{align}\n",
    "\n",
    "We define $g = g(u, \\tau)$ and $f = f(h, \\tau)$. We have that\n",
    "\\begin{align}\n",
    "    f + g = 0 \\iff -f = g.\n",
    "\\end{align}\n",
    "\n",
    "We now define an iteration by introducing\n",
    "\n",
    "\\begin{align}\n",
    "    \\tau^{(k + 1)} = \\frac{g(u, \\tau^{(k)})}{D},\n",
    "\\end{align}\n",
    "\n",
    "and start with the initial guess\n",
    "\n",
    "\\begin{align}\n",
    "    \\tau^{(0)} = \\frac{u}{D}.\n",
    "\\end{align}"
   ]
  },
  {
   "cell_type": "code",
   "execution_count": 4,
   "metadata": {
    "collapsed": true
   },
   "outputs": [],
   "source": [
    "def compute_ccd_energy(h, u, tau, n):\n",
    "    e_ref = np.einsum(\"ii->\", h[:n, :n]) + 0.5*np.einsum(\"ijij->\", u[:n, :n, :n, :n])\n",
    "    return e_ref + 0.25*np.einsum(\"abij, abij->\", u[n:, n:, :n, :n], tau)"
   ]
  },
  {
   "cell_type": "code",
   "execution_count": 5,
   "metadata": {
    "collapsed": true
   },
   "outputs": [],
   "source": [
    "def g(u, tau, n):\n",
    "    rhs = np.zeros(tau.shape)\n",
    "\n",
    "    term = -0.5*np.einsum(\"dcjm, bain, mndc -> abij\", tau, tau, u[:n, :n, n:, n:])\n",
    "    rhs += term - term.swapaxes(2, 3)\n",
    "\n",
    "    rhs += 0.25*np.einsum(\"dcji, bamn, mndc -> abij\", tau, tau, u[:n, :n, n:, n:])\n",
    "    rhs += 0.5*np.einsum(\"dcji, badc -> abij\", tau, u[n:, n:, n:, n:])\n",
    "\n",
    "    term = -np.einsum(\"acim, bdjn, mndc -> abij\", tau, tau, u[:n, :n, n:, n:])\n",
    "\n",
    "    rhs += term - term.swapaxes(2, 3)\n",
    "\n",
    "    term = np.einsum(\"acim, bmjc -> abij\", tau, u[n:, :n, :n, n:])\n",
    "\n",
    "    # The two expressions below produce the same result\n",
    "    #rhs += term - term.swapaxes(0, 1) - term.swapaxes(2, 3) + term.swapaxes(0, 1).swapaxes(2, 3)\n",
    "    rhs += (term - term.swapaxes(0, 1)) - (term - term.swapaxes(0, 1)).swapaxes(2, 3)\n",
    "\n",
    "    term = -0.5*np.einsum(\"acji, bdmn, mndc -> abij\", tau, tau, u[:n, :n, n:, n:])\n",
    "\n",
    "    rhs += term - term.swapaxes(0, 1)\n",
    "\n",
    "    term = -np.einsum(\"acji, bmcm -> abij\", tau, u[n:, :n, n:, :n])\n",
    "\n",
    "    rhs += term - term.swapaxes(0, 1)\n",
    "\n",
    "    rhs += 0.5*np.einsum(\"bamn, mnji -> abij\", tau, u[:n, :n, :n, :n])\n",
    "\n",
    "    term = np.einsum(\"baim, mnjn -> abij\", tau, u[:n, :n, :n, :n])\n",
    "\n",
    "    rhs += term - term.swapaxes(2, 3)\n",
    "    rhs += u[n:, n:, :n, :n]\n",
    "\n",
    "    return rhs"
   ]
  },
  {
   "cell_type": "code",
   "execution_count": 32,
   "metadata": {
    "collapsed": true
   },
   "outputs": [],
   "source": [
    "def _diag_compute_amplitudes(h, u, n, tol=1e-4):\n",
    "    # Here d_{ij}^{ab} = d[a][b][i][j]\n",
    "    d = np.zeros((len(h) - n, len(h) - n, n, n))\n",
    "\n",
    "    for a in range(len(h) - n):\n",
    "        for b in range(len(h) - n):\n",
    "            for i in range(n):\n",
    "                for j in range(n):\n",
    "                    d[a][b][i][j] = h[i][i] + h[j][j] - h[n + a][n + a] - h[n + b][n + b]\n",
    "\n",
    "    tau = np.divide(u[n:, n:, :n, :n], d, where=(d != 0))\n",
    "\n",
    "    e_ccd_prev = 0\n",
    "    e_ccd = compute_ccd_energy(h, u, tau, n)\n",
    "    diff = abs(e_ccd_prev - e_ccd)\n",
    "\n",
    "    while diff > tol:\n",
    "        tau = np.divide(g(u, tau, n), d)\n",
    "\n",
    "        e_ccd_prev = e_ccd\n",
    "        e_ccd = compute_ccd_energy(h, u, tau, n)\n",
    "        print (e_ccd)\n",
    "\n",
    "        diff = abs(e_ccd_prev - e_ccd)"
   ]
  },
  {
   "cell_type": "code",
   "execution_count": 7,
   "metadata": {
    "collapsed": true
   },
   "outputs": [],
   "source": [
    "def compute_amplitudes(h, u, n, diagonal_h=True):\n",
    "    if not diagonal_h:\n",
    "        raise NotImplementedError(\"This function currently only supports a diagonal h-matrix\")\n",
    "    else:\n",
    "        _diag_compute_amplitudes(h, u, n)"
   ]
  },
  {
   "cell_type": "code",
   "execution_count": 31,
   "metadata": {},
   "outputs": [
    {
     "name": "stdout",
     "output_type": "stream",
     "text": [
      "1.78613525671\n",
      "1.77767047956\n",
      "1.77951304446\n",
      "1.77877700476\n",
      "1.77895456658\n",
      "1.77888924101\n"
     ]
    }
   ],
   "source": [
    "compute_amplitudes(h, u, 2)"
   ]
  },
  {
   "cell_type": "markdown",
   "metadata": {},
   "source": [
    "## Further steps\n",
    "\n",
    "1. Factorize A7b with _intermediates_.\n",
    "    * Optimize code with to memory and speed.\n",
    "2. Implement CCSD.\n",
    "    * Compute the amplitude equations.\n",
    "    * Intermediates factorization.\n",
    "    * Write code for CCSD,\n",
    "        - Try to re-use the CCD code as much as possible.\n",
    "3. Implement the $\\lambda$-equations (A9b).\n",
    "    * Read chapter 1 in Helgaker.\n",
    "4. Ground state calculations for DWQD."
   ]
  }
 ],
 "metadata": {
  "kernelspec": {
   "display_name": "Python 3",
   "language": "python",
   "name": "python3"
  },
  "language_info": {
   "codemirror_mode": {
    "name": "ipython",
    "version": 3
   },
   "file_extension": ".py",
   "mimetype": "text/x-python",
   "name": "python",
   "nbconvert_exporter": "python",
   "pygments_lexer": "ipython3",
   "version": "3.6.1"
  }
 },
 "nbformat": 4,
 "nbformat_minor": 2
}
