{
 "cells": [
  {
   "cell_type": "markdown",
   "metadata": {},
   "source": [
    "# Coupled-cluster doubles\n",
    "\n",
    "In this notebook we set up a general solver for CCD given matrices $h_{p}^{q}$ and $u^{pq}_{rs}$, where the latter is _anti-symmetric_."
   ]
  },
  {
   "cell_type": "code",
   "execution_count": 1,
   "metadata": {
    "collapsed": true
   },
   "outputs": [],
   "source": [
    "import pickle\n",
    "import numpy as np\n",
    "import time"
   ]
  },
  {
   "cell_type": "markdown",
   "metadata": {},
   "source": [
    "We start by retrieving the pickled one-body and two-body matrix elements generated in the `matrix_elements.ipynb`-notebook."
   ]
  },
  {
   "cell_type": "code",
   "execution_count": 2,
   "metadata": {
    "collapsed": false
   },
   "outputs": [],
   "source": [
    "with open(\"dat/h.pkl\", \"rb\") as f:\n",
    "    h = pickle.load(f)\n",
    "with open(\"dat/u.pkl\", \"rb\") as f:\n",
    "    u = pickle.load(f)"
   ]
  },
  {
   "cell_type": "markdown",
   "metadata": {},
   "source": [
    "## Iteration scheme\n",
    "\n",
    "Using the equations (A7a and A7b) listed in \"Ab initio quantum dynamics using coupled-cluster\" by Simen Kvaal we can define iterations to find the amplitudes $\\tau$. We define (note that there are no summing in these expressions)\n",
    "\n",
    "\\begin{align}\n",
    "    f_{ij}^{ab} &= \\frac{\\partial}{\\partial \\lambda_{ab}^{ij}}\\mathcal{E}_{H^{(1)}} \\\\\n",
    "        &= -h_{c}^{a}\\tau_{ij}^{bc}P(ab) + h_{i}^{k}\\tau_{jk}^{ab}P(ij),\n",
    "\\end{align}\n",
    "\n",
    "where $P(ij)$ is the anti-symmetrization operator permuting the two indices $i$, $j$ and subtracting the result. We start by assuming that $h$ is a diagonal matrix thus making a simplified expression for the right hand side of $f$.\n",
    "\n",
    "\\begin{align}\n",
    "    f_{ij}^{ab} &= -h_{a}^{a}\\tau_{ij}^{ba}P(ab) + h_{i}^{i}\\tau_{ji}^{ab}P(ij) \\\\\n",
    "        &= -h_{a}^{a}\\tau_{ij}^{ba} + h_{b}^{b}\\tau_{ij}^{ab}\n",
    "            + h_{i}^{i}\\tau_{ji}^{ab} - h_{j}^{j}\\tau_{ij}^{ab} \\\\\n",
    "        &= (h_{a}^{a} + h_{b}^{b} - h_{i}^{i} - h_{j}^{j})\\tau_{ij}^{ab} \\\\\n",
    "        &= -D_{ij}^{ab}\\tau_{ij}^{ab},\n",
    "\\end{align}\n",
    "\n",
    "where $D = D(h)$ given by\n",
    "\n",
    "\\begin{align}\n",
    "    D_{ij}^{ab} = h_{i}^{i} + h_j^j - h_a^a - h_b^b.\n",
    "\\end{align}\n",
    "\n",
    "The equations from A7b in Kvaal's article is given by\n",
    "\n",
    "\\begin{align}\n",
    "    g_{ij}^{ab} &= \\frac{\\partial}{\\partial\\lambda_{ab}^{ij}}\\mathcal{E}_{H^{(2)}} \\\\\n",
    "        &= - \\frac{\\tau^{dc}_{jm} \\tau^{ba}_{in}}{2} u^{mn}_{dc} P(ij)\n",
    "            + \\frac{\\tau^{dc}_{ji} \\tau^{ba}_{mn}}{4} u^{mn}_{dc}\n",
    "            + \\frac{\\tau^{dc}_{ji} u^{ba}_{dc}}{2} \\\\\n",
    "            &\\qquad\n",
    "            - \\tau^{ac}_{im} \\tau^{bd}_{jn} u^{mn}_{dc} P(ij)\n",
    "            + \\tau^{ac}_{im} u^{bm}_{jc} P(ab) P(ij)\n",
    "            - \\frac{\\tau^{ac}_{ji} \\tau^{bd}_{mn}}{2} u^{mn}_{dc} P(ab) \\\\\n",
    "            &\\qquad\n",
    "            - \\tau^{ac}_{ji} u^{bm}_{cm} P(ab)\n",
    "            + \\frac{\\tau^{ba}_{mn} u^{mn}_{ji}}{2}\n",
    "            + \\tau^{ba}_{im} u^{mn}_{jn} P(ij) + u^{ba}_{ji}.\n",
    "\\end{align}\n",
    "\n",
    "We define $g = g(u, \\tau)$ and $f = f(h, \\tau)$. We have that\n",
    "\\begin{align}\n",
    "    f + g = 0 \\iff -f = g.\n",
    "\\end{align}\n",
    "\n",
    "We now define an iteration by introducing\n",
    "\n",
    "\\begin{align}\n",
    "    \\tau^{(k + 1)} = \\frac{g(u, \\tau^{(k)})}{D},\n",
    "\\end{align}\n",
    "\n",
    "and start with the initial guess\n",
    "\n",
    "\\begin{align}\n",
    "    \\tau^{(0)} = \\frac{u}{D}.\n",
    "\\end{align}"
   ]
  },
  {
   "cell_type": "markdown",
   "metadata": {
    "collapsed": true
   },
   "source": [
    "def compute_ccd_energy(h, u, tau, n):\n",
    "    e_ref = np.einsum(\"ii->\", h[:n, :n]) + 0.5*np.einsum(\"ijij->\", u[:n, :n, :n, :n])\n",
    "    #return e_ref + 0.25*np.einsum(\"cdkl, klcd ->\", tau, u[:n, :n, n:, n:])\n",
    "    return e_ref + 0.25*np.einsum(\"abij, abij->\", u[n:, n:, :n, :n], tau)"
   ]
  },
  {
   "cell_type": "code",
   "execution_count": 3,
   "metadata": {
    "collapsed": true
   },
   "outputs": [],
   "source": [
    "def compute_ccd_energy(h, u, t, n):\n",
    "    rhs = 0\n",
    "    term = 1 * (0.5) * np.einsum(\"lklk -> \", u[:n, :n, :n, :n])\n",
    "    rhs += term\n",
    "    term = 1 * (0.25) * np.einsum(\"dclk, lkdc -> \", t, u[:n, :n, n:, n:])\n",
    "    rhs += term\n",
    "    term = 1 * np.einsum(\"kk -> \", h[:n, :n])\n",
    "    rhs += term\n",
    "\n",
    "    return rhs"
   ]
  },
  {
   "cell_type": "markdown",
   "metadata": {
    "collapsed": true
   },
   "source": [
    "def g(h, u, tau, n):\n",
    "    rhs = np.zeros(tau.shape)\n",
    "\n",
    "    term = -0.5*np.einsum(\"dcjm, bain, mndc -> abij\", tau, tau, u[:n, :n, n:, n:])\n",
    "    rhs += term - term.swapaxes(2, 3)\n",
    "\n",
    "    rhs += 0.25*np.einsum(\"dcji, bamn, mndc -> abij\", tau, tau, u[:n, :n, n:, n:])\n",
    "    rhs += 0.5*np.einsum(\"dcji, badc -> abij\", tau, u[n:, n:, n:, n:])\n",
    "\n",
    "    term = -np.einsum(\"acim, bdjn, mndc -> abij\", tau, tau, u[:n, :n, n:, n:])\n",
    "\n",
    "    rhs += term - term.swapaxes(2, 3)\n",
    "\n",
    "    term = np.einsum(\"acim, bmjc -> abij\", tau, u[n:, :n, :n, n:])\n",
    "\n",
    "    # The two expressions below produce the same result\n",
    "    #rhs += term - term.swapaxes(0, 1) - term.swapaxes(2, 3) + term.swapaxes(0, 1).swapaxes(2, 3)\n",
    "    rhs += (term - term.swapaxes(0, 1)) - (term - term.swapaxes(0, 1)).swapaxes(2, 3)\n",
    "\n",
    "    term = -0.5*np.einsum(\"acji, bdmn, mndc -> abij\", tau, tau, u[:n, :n, n:, n:])\n",
    "\n",
    "    rhs += term - term.swapaxes(0, 1)\n",
    "\n",
    "    term = -np.einsum(\"acji, bmcm -> abij\", tau, u[n:, :n, n:, :n])\n",
    "\n",
    "    rhs += term - term.swapaxes(0, 1)\n",
    "\n",
    "    rhs += 0.5*np.einsum(\"bamn, mnji -> abij\", tau, u[:n, :n, :n, :n])\n",
    "\n",
    "    term = np.einsum(\"baim, mnjn -> abij\", tau, u[:n, :n, :n, :n])\n",
    "\n",
    "    rhs += term - term.swapaxes(2, 3)\n",
    "    rhs += u[n:, n:, :n, :n]\n",
    "\n",
    "    return rhs"
   ]
  },
  {
   "cell_type": "code",
   "execution_count": 4,
   "metadata": {
    "collapsed": true
   },
   "outputs": [],
   "source": [
    "def g(h, u, t, n):\n",
    "    rhs = np.zeros(t.shape)\n",
    "    term = 1 * (0.5) * np.einsum(\"balk, lkji -> abij\", t, u[:n, :n, :n, :n])\n",
    "    rhs += term\n",
    "    term = 1 * (0.5) * np.einsum(\"dcji, badc -> abij\", t, u[n:, n:, n:, n:])\n",
    "    rhs += term\n",
    "    \n",
    "    one_dca = np.ones((len(h) - n, len(h) - n)) - np.eye(len(h) - n)\n",
    "    term = 1 * np.einsum(\"ac, ac, bcji -> abij\", one_dca, h[n:, n:], t)\n",
    "    rhs += (term - term.swapaxes(0, 1))\n",
    "\n",
    "    one_dki = np.ones((n, n)) - np.eye(n)\n",
    "    term = 1 * (-1.0) * np.einsum(\"ki, ki, bajk -> abij\", one_dki, h[:n, :n], t)\n",
    "    rhs += (term - term.swapaxes(2, 3))\n",
    "\n",
    "    term = 1 * (-1.0) * np.einsum(\"acji, bkck -> abij\", t, u[n:, :n, n:, :n])\n",
    "    rhs += (term - term.swapaxes(0, 1))\n",
    "    term = 1 * (-1.0) * np.einsum(\"baik, lkjl -> abij\", t, u[:n, :n, :n, :n])\n",
    "    rhs += (term - term.swapaxes(2, 3))\n",
    "    term = 1 * (0.25) * np.einsum(\"balk, dcji, lkdc -> abij\", t, t, u[:n, :n, n:, n:])\n",
    "    rhs += term\n",
    "    term = 1 * np.einsum(\"acik, bdjl, lkdc -> abij\", t, t, u[:n, :n, n:, n:])\n",
    "    rhs += (term - term.swapaxes(2, 3))\n",
    "    term = 1 * np.einsum(\"acik, bkjc -> abij\", t, u[n:, :n, :n, n:])\n",
    "    rhs += ((term - term.swapaxes(0, 1)) - (term - term.swapaxes(0, 1)).swapaxes(2, 3))\n",
    "    term = 1 * (0.5) * np.einsum(\"bail, dcjk, lkdc -> abij\", t, t, u[:n, :n, n:, n:])\n",
    "    rhs += (term - term.swapaxes(2, 3))\n",
    "    term = 1 * (-0.5) * np.einsum(\"acji, bdlk, lkdc -> abij\", t, t, u[:n, :n, n:, n:])\n",
    "    rhs += (term - term.swapaxes(0, 1))\n",
    "    rhs += u[n:, n:, :n, :n]\n",
    "\n",
    "    return rhs"
   ]
  },
  {
   "cell_type": "code",
   "execution_count": 5,
   "metadata": {
    "collapsed": true
   },
   "outputs": [],
   "source": [
    "def _diag_compute_amplitudes(h, u, n, tol=1e-4):\n",
    "    # Here d_{ij}^{ab} = d[a][b][i][j]\n",
    "    d = np.zeros((len(h) - n, len(h) - n, n, n))\n",
    "\n",
    "    for a in range(len(h) - n):\n",
    "        for b in range(len(h) - n):\n",
    "            for i in range(n):\n",
    "                for j in range(n):\n",
    "                    d[a][b][i][j] = h[i][i] + h[j][j] - h[n + a][n + a] - h[n + b][n + b]\n",
    "\n",
    "    tau = np.divide(u[n:, n:, :n, :n], d, where=(d != 0))\n",
    "\n",
    "    e_ccd_prev = 0\n",
    "    e_ccd = compute_ccd_energy(h, u, tau, n)\n",
    "    diff = abs(e_ccd_prev - e_ccd)\n",
    "\n",
    "    while diff > tol:\n",
    "        tau = np.divide(g(h, u, tau, n), d)\n",
    "\n",
    "        e_ccd_prev = e_ccd\n",
    "        e_ccd = compute_ccd_energy(h, u, tau, n)\n",
    "\n",
    "        diff = abs(e_ccd_prev - e_ccd)\n",
    "\n",
    "    return e_ccd"
   ]
  },
  {
   "cell_type": "code",
   "execution_count": 6,
   "metadata": {
    "collapsed": true
   },
   "outputs": [],
   "source": [
    "def compute_amplitudes(h, u, n, diagonal_h=True):\n",
    "    if not diagonal_h:\n",
    "        raise NotImplementedError(\"This function currently only supports a diagonal h-matrix\")\n",
    "    else:\n",
    "        return _diag_compute_amplitudes(h, u, n)"
   ]
  },
  {
   "cell_type": "code",
   "execution_count": 7,
   "metadata": {
    "collapsed": false
   },
   "outputs": [
    {
     "name": "stdout",
     "output_type": "stream",
     "text": [
      "Time spent: 0.13729643821716309\n",
      "Energy: 1.7788892410077777\n"
     ]
    }
   ],
   "source": [
    "t1 = time.time()\n",
    "e_ccd = compute_amplitudes(h, u, 2)\n",
    "t2 = time.time()\n",
    "\n",
    "print (\"Time spent: {0}\".format(t2 - t1))\n",
    "print (\"Energy: {0}\".format(e_ccd))"
   ]
  },
  {
   "cell_type": "markdown",
   "metadata": {},
   "source": [
    "## Intermediates\n",
    "\n",
    "Our current scheme for solving $g^{ab}_{ij}$ involves $\\mathcal{O}(n^8)$ (expand on the exact cost) operations we wish to reduce this by pre-calculating some terms.\n",
    "\n",
    "\\begin{align}\n",
    "    g_{ij}^{ab} &= \\frac{\\partial}{\\partial\\lambda_{ab}^{ij}}\\mathcal{E}_{H^{(2)}} \\\\\n",
    "        &= - \\frac{\\tau^{dc}_{jm} \\tau^{ba}_{in}}{2} u^{mn}_{dc} P(ij)\n",
    "            + \\frac{\\tau^{dc}_{ji} \\tau^{ba}_{mn}}{4} u^{mn}_{dc}\n",
    "            + \\frac{\\tau^{dc}_{ji} u^{ba}_{dc}}{2} \\\\\n",
    "            &\\qquad\n",
    "            - \\tau^{ac}_{im} \\tau^{bd}_{jn} u^{mn}_{dc} P(ij)\n",
    "            + \\tau^{ac}_{im} u^{bm}_{jc} P(ab) P(ij)\n",
    "            - \\frac{\\tau^{ac}_{ji} \\tau^{bd}_{mn}}{2} u^{mn}_{dc} P(ab) \\\\\n",
    "            &\\qquad\n",
    "            - \\tau^{ac}_{ji} u^{bm}_{cm} P(ab)\n",
    "            + \\frac{\\tau^{ba}_{mn} u^{mn}_{ji}}{2}\n",
    "            + \\tau^{ba}_{im} u^{mn}_{jn} P(ij) + u^{ba}_{ji}.\n",
    "\\end{align}\n",
    "\n",
    "By collecting terms with common indices we get\n",
    "\n",
    "\\begin{gather}\n",
    "    \\frac{\\tau^{dc}_{ji} \\tau^{ba}_{mn}}{4} u^{mn}_{dc}\n",
    "    + \\frac{\\tau^{dc}_{ji} u^{ba}_{dc}}{2}\n",
    "    = \\tau^{dc}_{ji}\\left(\n",
    "        \\frac{1}{4}\\tau^{ba}_{mn} u^{mn}_{dc}\n",
    "        + \\frac{1}{2} u^{ba}_{dc}\n",
    "    \\right)\n",
    "    = \\tau^{dc}_{ji}\\chi^{ba}_{dc}, \\\\\n",
    "    - \\frac{\\tau^{ac}_{ji} \\tau^{bd}_{mn}}{2} u^{mn}_{dc} P(ab)\n",
    "    - \\tau^{ac}_{ji} u^{bm}_{cm} P(ab)\n",
    "    = -\\tau^{ac}_{ji}\\left(\n",
    "        \\frac{1}{2}\\tau^{bd}_{mn} u^{mn}_{dc}\n",
    "        + u^{bm}_{cm}\n",
    "    \\right) P(ab)\n",
    "    = -\\tau^{ac}_{ji}\\chi^{b}_{c} P(ab), \\\\\n",
    "    - \\frac{\\tau^{dc}_{jm} \\tau^{ba}_{in}}{2} u^{mn}_{dc} P(ij)\n",
    "    = - \\tau^{ba}_{in} \\chi^n_j P(ij),\n",
    "\\end{gather}\n",
    "\n",
    "where the $\\chi$'s are _intermediates_. We can extract one more intermediate by writing\n",
    "\n",
    "\\begin{align}\n",
    "    \\tau^{ac}_{im} \\tau^{bd}_{jn} u^{mn}_{dc}\n",
    "    = \\frac{1}{2} \\tau^{ac}_{im} \\tau^{bd}_{jn} u^{mn}_{dc} P(ab),\n",
    "\\end{align}\n",
    "\n",
    "due to the antisymmetry of the coupled cluster amplitudes. This lets us write\n",
    "\n",
    "\\begin{align}\n",
    "    - \\tau^{ac}_{im} \\tau^{bd}_{jn} u^{mn}_{dc} P(ij)\n",
    "    + \\tau^{ac}_{im} u^{bm}_{jc} P(ab) P(ij)\n",
    "    &= -\\frac{1}{2} \\tau^{ac}_{im} \\tau^{bd}_{jn} u^{mn}_{dc} P(ab) P(ij)\n",
    "    + \\tau^{ac}_{im} u^{bm}_{jc} P(ab) P(ij) \\\\\n",
    "    &= \\tau^{ac}_{im}\\left(\n",
    "        -\\frac{1}{2} \\tau^{bd}_{jn} u^{mn}_{dc}\n",
    "        + u^{bm}_{jc}\n",
    "    \\right) P(ab) P(ij) \\\\\n",
    "    &= \\tau^{ac}_{im}\\chi^{bm}_{jc} P(ab) P(ij).\n",
    "\\end{align}\n",
    "\n",
    "In summary, this results in the following intermediates\n",
    "\n",
    "\\begin{align}\n",
    "    \\chi^{bm}_{jc} &= u^{bm}_{jc} - \\frac{1}{2} \\tau^{bd}_{jn} u^{mn}_{dc}, \\\\\n",
    "    \\chi^{b}_{c} &= \\frac{1}{2}\\tau^{bd}_{mn} u^{mn}_{dc} + u^{bm}_{cm}, \\\\\n",
    "    \\chi^n_j &= \\frac{1}{2}\\tau^{dc}_{jm} u^{mn}_{dc}, \\\\\n",
    "    \\chi^{ba}_{dc} &= \\frac{1}{4}\\tau^{ba}_{mn} u^{mn}_{dc} + \\frac{1}{2} u^{ba}_{dc}.\n",
    "\\end{align}"
   ]
  },
  {
   "cell_type": "markdown",
   "metadata": {},
   "source": [
    "## Updated two-body equation\n",
    "\n",
    "Using the intermediates we can rewrite the equation for $g$ as\n",
    "\n",
    "\\begin{align}\n",
    "    g^{ab}_{ij}\n",
    "     &= - \\tau^{ba}_{in} \\chi^n_j P(ij)\n",
    "     + \\tau^{dc}_{ji}\\chi^{ba}_{dc}\n",
    "     + \\tau^{ac}_{im}\\chi^{bm}_{jc} P(ab) P(ij) \\\\\n",
    "     &\\qquad\n",
    "     -\\tau^{ac}_{ji}\\chi^{b}_{c} P(ab)\n",
    "     + \\frac{\\tau^{ba}_{mn} u^{mn}_{ji}}{2}\n",
    "     + \\tau^{ba}_{im} u^{mn}_{jn} P(ij) + u^{ba}_{ji}.\n",
    "\\end{align}\n",
    "\n",
    "We now create a new function calculating the intermediates from"
   ]
  },
  {
   "cell_type": "code",
   "execution_count": 8,
   "metadata": {
    "collapsed": true
   },
   "outputs": [],
   "source": [
    "def g(h, u, tau, n):\n",
    "    chi_bmjc = u[n:, :n, :n, n:] - 0.5*np.einsum(\"bdjn, mndc -> bmjc\", tau, u[:n, :n, n:, n:])\n",
    "    chi_bc = np.einsum(\"bmcm -> bc\", u[n:, :n, n:, :n]) + 0.5*np.einsum(\"bdmn, mndc -> bc\", tau, u[:n, :n, n:, n:])\n",
    "    chi_nj = 0.5*np.einsum(\"dcjm, mndc -> nj\", tau, u[:n, :n, n:, n:])\n",
    "    chi_badc = 0.5*u[n:, n:, n:, n:] + 0.25*np.einsum(\"bamn, mndc -> badc\", tau, u[:n, :n, n:, n:])\n",
    "\n",
    "    term = -np.einsum(\"bain, nj -> abij\", tau, chi_nj)\n",
    "    rhs = term - term.swapaxes(2, 3)\n",
    "\n",
    "    rhs += np.einsum(\"dcji, badc -> abij\", tau, chi_badc)\n",
    "\n",
    "    term = np.einsum(\"acim, bmjc -> abij\", tau, chi_bmjc)\n",
    "\n",
    "    term = term - term.swapaxes(2, 3)\n",
    "    rhs += term - term.swapaxes(0, 1)\n",
    "\n",
    "    term = -np.einsum(\"acji, bc -> abij\", tau, chi_bc)\n",
    "    rhs += term - term.swapaxes(0, 1)\n",
    "\n",
    "    rhs += 0.5*np.einsum(\"bamn, mnji -> abij\", tau, u[:n, :n, :n, :n])\n",
    "\n",
    "    term = np.einsum(\"baim, mnjn -> abij\", tau, u[:n, :n, :n, :n])\n",
    "    rhs += term - term.swapaxes(2, 3)\n",
    "\n",
    "    rhs += u[n:, n:, :n, :n]\n",
    "\n",
    "    return rhs"
   ]
  },
  {
   "cell_type": "code",
   "execution_count": 9,
   "metadata": {
    "collapsed": false
   },
   "outputs": [
    {
     "name": "stdout",
     "output_type": "stream",
     "text": [
      "Time spent: 0.009082794189453125\n",
      "Energy: 1.7788892410077777\n"
     ]
    }
   ],
   "source": [
    "t1 = time.time()\n",
    "e_ccd = compute_amplitudes(h, u, 2)\n",
    "t2 = time.time()\n",
    "\n",
    "print (\"Time spent: {0}\".format(t2 - t1))\n",
    "print (\"Energy: {0}\".format(e_ccd))"
   ]
  },
  {
   "cell_type": "markdown",
   "metadata": {},
   "source": [
    "## Further steps\n",
    "\n",
    "1. Optimize code with respect to memory and speed.\n",
    "2. Implement CCSD.\n",
    "    * Compute the amplitude equations.\n",
    "    * Intermediates factorization.\n",
    "    * Write code for CCSD,\n",
    "        - Try to re-use the CCD code as much as possible.\n",
    "3. Implement the $\\lambda$-equations (A9b).\n",
    "    * Read chapter 1 in Helgaker.\n",
    "4. Ground state calculations for DWQD.\n",
    "    * Single particle basis."
   ]
  }
 ],
 "metadata": {
  "anaconda-cloud": {},
  "kernelspec": {
   "display_name": "Python [default]",
   "language": "python",
   "name": "python3"
  },
  "language_info": {
   "codemirror_mode": {
    "name": "ipython",
    "version": 3
   },
   "file_extension": ".py",
   "mimetype": "text/x-python",
   "name": "python",
   "nbconvert_exporter": "python",
   "pygments_lexer": "ipython3",
   "version": "3.5.2"
  }
 },
 "nbformat": 4,
 "nbformat_minor": 2
}
