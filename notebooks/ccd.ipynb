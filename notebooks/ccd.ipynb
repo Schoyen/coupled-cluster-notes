{
 "cells": [
  {
   "cell_type": "markdown",
   "metadata": {},
   "source": [
    "# Coupled-cluster doubles\n",
    "\n",
    "In this notebook we set up a general solver for CCD given matrices $h_{p}^{q}$ and $u^{pq}_{rs}$, where the latter is _anti-symmetric_."
   ]
  },
  {
   "cell_type": "code",
   "execution_count": 10,
   "metadata": {
    "collapsed": true
   },
   "outputs": [],
   "source": [
    "import pickle\n",
    "import numpy as np"
   ]
  },
  {
   "cell_type": "markdown",
   "metadata": {},
   "source": [
    "We start by retrieving the pickled one-body and two-body matrix elements generated in the `matrix_elements.ipynb`-notebook."
   ]
  },
  {
   "cell_type": "code",
   "execution_count": 15,
   "metadata": {},
   "outputs": [],
   "source": [
    "with open(\"dat/h.pkl\", \"rb\") as f:\n",
    "    h = pickle.load(f)\n",
    "with open(\"dat/u.pkl\", \"rb\") as f:\n",
    "    u = pickle.load(f)"
   ]
  },
  {
   "cell_type": "markdown",
   "metadata": {},
   "source": [
    "## Iteration scheme\n",
    "\n",
    "Using the equations (A7a and A7b) listed in \"Ab initio quantum dynamics using coupled-cluster\" by Simen Kvaal we can define iterations to find the amplitudes $\\tau$. We define (note that there are no summing in these expressions)\n",
    "\n",
    "\\begin{align}\n",
    "    f_{ij}^{ab} &= \\frac{\\partial}{\\partial \\lambda_{ab}^{ij}}\\mathcal{E}_{H^{(1)}} \\\\\n",
    "        &= -h_{c}^{a}\\tau_{ij}^{bc}P(ab) + h_{i}^{k}\\tau_{jk}^{ab}P(ij),\n",
    "\\end{align}\n",
    "\n",
    "where $P(ij)$ is the anti-symmetrization operator permuting the two indices $i$, $j$ and subtracting the result. We start by assuming that $h$ is a diagonal matrix thus making a simplified expression for the right hand side of $f$.\n",
    "\n",
    "\\begin{align}\n",
    "    f_{ij}^{ab} &= -h_{a}^{a}\\tau_{ij}^{ba}P(ab) + h_{i}^{i}\\tau_{ji}^{ab}P(ij) \\\\\n",
    "        &= -h_{a}^{a}\\tau_{ij}^{ba} + h_{b}^{b}\\tau_{ij}^{ab}\n",
    "            + h_{i}^{i}\\tau_{ji}^{ab} - h_{j}^{j}\\tau_{ij}^{ab} \\\\\n",
    "        &= (h_{a}^{a} + h_{b}^{b} - h_{i}^{i} - h_{j}^{j})\\tau_{ij}^{ab} \\\\\n",
    "        &= -D_{ij}^{ab}\\tau_{ij}^{ab},\n",
    "\\end{align}\n",
    "\n",
    "where $D = D(h)$.\n",
    "The equations from A7b in Kvaal's article is given by\n",
    "\n",
    "\\begin{align}\n",
    "    g_{ij}^{ab} &= \\frac{\\partial}{\\partial\\lambda_{ab}^{ij}}\\mathcal{E}_{H^{(2)}} \\\\\n",
    "        &= - \\frac{\\tau^{dc}_{jm} \\tau^{ba}_{in}}{2} u^{mn}_{dc} P(ij)\n",
    "            + \\frac{\\tau^{dc}_{ji} \\tau^{ba}_{mn}}{4} u^{mn}_{dc}\n",
    "            + \\frac{\\tau^{dc}_{ji} u^{ba}_{dc}}{2} \\\\\n",
    "            &\\qquad\n",
    "            - \\tau^{ac}_{im} \\tau^{bd}_{jn} u^{mn}_{dc} P(ij)\n",
    "            + \\tau^{ac}_{im} u^{bm}_{jc} P(ab) P(ij)\n",
    "            - \\frac{\\tau^{ac}_{ji} \\tau^{bd}_{mn}}{2} u^{mn}_{dc} P(ab) \\\\\n",
    "            &\\qquad\n",
    "            - \\tau^{ac}_{ji} u^{bm}_{cm} P(ab)\n",
    "            + \\frac{\\tau^{ba}_{mn} u^{mn}_{ji}}{2}\n",
    "            + \\tau^{ba}_{im} u^{mn}_{jn} P(ij) + u^{ba}_{ji}.\n",
    "\\end{align}\n",
    "\n",
    "We define $g = g(u, \\tau)$ and $f = f(h, \\tau)$. We have that\n",
    "\\begin{align}\n",
    "    f + g = 0 \\implies -f = g.\n",
    "\\end{align}\n",
    "\n",
    "We now define an iteration by introducing\n",
    "\n",
    "\\begin{align}\n",
    "    \\tau^{(k + 1)} = \\frac{g(u, \\tau^{(k)})}{D},\n",
    "\\end{align}\n",
    "\n",
    "and start with the initial guess\n",
    "\n",
    "\\begin{align}\n",
    "    \\tau^{(0)} = \\frac{u}{D}.\n",
    "\\end{align}"
   ]
  },
  {
   "cell_type": "code",
   "execution_count": 19,
   "metadata": {
    "collapsed": true
   },
   "outputs": [],
   "source": [
    "def compute_amplitudes(h, u, diagonal_h=True):\n",
    "    if not diagonal_h:\n",
    "        raise NotImplementedError(\"This function currently only supports a diagonal h-matrix\")"
   ]
  },
  {
   "cell_type": "code",
   "execution_count": 20,
   "metadata": {},
   "outputs": [
    {
     "ename": "NotImplementedError",
     "evalue": "This function currently only supports a diagonal h-matrix",
     "output_type": "error",
     "traceback": [
      "\u001b[0;31m---------------------------------------------------------------------------\u001b[0m",
      "\u001b[0;31mNotImplementedError\u001b[0m                       Traceback (most recent call last)",
      "\u001b[0;32m<ipython-input-20-06519fc88491>\u001b[0m in \u001b[0;36m<module>\u001b[0;34m()\u001b[0m\n\u001b[0;32m----> 1\u001b[0;31m \u001b[0mcompute_amplitudes\u001b[0m\u001b[0;34m(\u001b[0m\u001b[0;36m1\u001b[0m\u001b[0;34m,\u001b[0m \u001b[0;36m2\u001b[0m\u001b[0;34m,\u001b[0m \u001b[0;32mFalse\u001b[0m\u001b[0;34m)\u001b[0m\u001b[0;34m\u001b[0m\u001b[0m\n\u001b[0m",
      "\u001b[0;32m<ipython-input-19-4721271a7d53>\u001b[0m in \u001b[0;36mcompute_amplitudes\u001b[0;34m(h, u, diagonal_h)\u001b[0m\n\u001b[1;32m      1\u001b[0m \u001b[0;32mdef\u001b[0m \u001b[0mcompute_amplitudes\u001b[0m\u001b[0;34m(\u001b[0m\u001b[0mh\u001b[0m\u001b[0;34m,\u001b[0m \u001b[0mu\u001b[0m\u001b[0;34m,\u001b[0m \u001b[0mdiagonal_h\u001b[0m\u001b[0;34m=\u001b[0m\u001b[0;32mTrue\u001b[0m\u001b[0;34m)\u001b[0m\u001b[0;34m:\u001b[0m\u001b[0;34m\u001b[0m\u001b[0m\n\u001b[1;32m      2\u001b[0m     \u001b[0;32mif\u001b[0m \u001b[0;32mnot\u001b[0m \u001b[0mdiagonal_h\u001b[0m\u001b[0;34m:\u001b[0m\u001b[0;34m\u001b[0m\u001b[0m\n\u001b[0;32m----> 3\u001b[0;31m         \u001b[0;32mraise\u001b[0m \u001b[0mNotImplementedError\u001b[0m\u001b[0;34m(\u001b[0m\u001b[0;34m\"This function currently only supports a diagonal h-matrix\"\u001b[0m\u001b[0;34m)\u001b[0m\u001b[0;34m\u001b[0m\u001b[0m\n\u001b[0m",
      "\u001b[0;31mNotImplementedError\u001b[0m: This function currently only supports a diagonal h-matrix"
     ]
    }
   ],
   "source": [
    "compute_amplitudes(1, 2, False)"
   ]
  }
 ],
 "metadata": {
  "kernelspec": {
   "display_name": "Python 3",
   "language": "python",
   "name": "python3"
  },
  "language_info": {
   "codemirror_mode": {
    "name": "ipython",
    "version": 3
   },
   "file_extension": ".py",
   "mimetype": "text/x-python",
   "name": "python",
   "nbconvert_exporter": "python",
   "pygments_lexer": "ipython3",
   "version": "3.6.1"
  }
 },
 "nbformat": 4,
 "nbformat_minor": 2
}
